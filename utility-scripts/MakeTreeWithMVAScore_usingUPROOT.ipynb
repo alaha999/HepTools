{
 "cells": [
  {
   "cell_type": "code",
   "execution_count": 1,
   "id": "477c3d00",
   "metadata": {},
   "outputs": [],
   "source": [
    "import uproot\n",
    "import os,sys"
   ]
  },
  {
   "cell_type": "code",
   "execution_count": 2,
   "id": "4acb15b9",
   "metadata": {},
   "outputs": [],
   "source": [
    "pjoin = os.path.join"
   ]
  },
  {
   "cell_type": "code",
   "execution_count": 3,
   "id": "a51834f0",
   "metadata": {},
   "outputs": [],
   "source": [
    "## define the directories where input files are present\n",
    "\n",
    "dataDir = 'inputTreeFiles/'\n",
    "modelDir= 'nnmodelfiles/'\n",
    "\n",
    "\n"
   ]
  },
  {
   "cell_type": "code",
   "execution_count": 4,
   "id": "0d884637",
   "metadata": {},
   "outputs": [],
   "source": [
    "events = uproot.open(pjoin(dataDir,'VLL_M125_sample.root:events_1L2J'))"
   ]
  },
  {
   "cell_type": "code",
   "execution_count": 5,
   "id": "84071774",
   "metadata": {},
   "outputs": [
    {
     "data": {
      "text/plain": [
       "<TTree 'events_1L2J' (45 branches) at 0x7f309d1cbee0>"
      ]
     },
     "execution_count": 5,
     "metadata": {},
     "output_type": "execute_result"
    }
   ],
   "source": [
    "events"
   ]
  },
  {
   "cell_type": "code",
   "execution_count": 6,
   "id": "bcc5eed7",
   "metadata": {},
   "outputs": [
    {
     "name": "stdout",
     "output_type": "stream",
     "text": [
      "name                 | typename                 | interpretation                \n",
      "---------------------+--------------------------+-------------------------------\n",
      "index                | int64_t                  | AsDtype('>i8')\n",
      "nEvt                 | int32_t                  | AsDtype('>i4')\n",
      "lep0_flavor          | int32_t                  | AsDtype('>i4')\n",
      "lep0_pt              | float                    | AsDtype('>f4')\n",
      "lep0_phi             | float                    | AsDtype('>f4')\n",
      "lep0_eta             | float                    | AsDtype('>f4')\n",
      "lep0_iso             | float                    | AsDtype('>f4')\n",
      "lep0_mt              | float                    | AsDtype('>f4')\n",
      "lep0_sip3d           | float                    | AsDtype('>f4')\n",
      "lep0_deepjet         | float                    | AsDtype('>f4')\n",
      "jet0_pt              | float                    | AsDtype('>f4')\n",
      "jet0_phi             | float                    | AsDtype('>f4')\n",
      "jet0_eta             | float                    | AsDtype('>f4')\n",
      "jet0_mt              | float                    | AsDtype('>f4')\n",
      "jet1_pt              | float                    | AsDtype('>f4')\n",
      "jet1_phi             | float                    | AsDtype('>f4')\n",
      "jet1_eta             | float                    | AsDtype('>f4')\n",
      "jet1_mt              | float                    | AsDtype('>f4')\n",
      "dijet_mass           | float                    | AsDtype('>f4')\n",
      "dijet_pt             | float                    | AsDtype('>f4')\n",
      "dijet_mt             | float                    | AsDtype('>f4')\n",
      "deltaR_jet01         | float                    | AsDtype('>f4')\n",
      "deltaPhi_metjet0     | float                    | AsDtype('>f4')\n",
      "deltaPhi_metjet1     | float                    | AsDtype('>f4')\n",
      "deltaPhi_metlep0     | float                    | AsDtype('>f4')\n",
      "deltaPhi_jet0lep0    | float                    | AsDtype('>f4')\n",
      "deltaPhi_jet1lep0    | float                    | AsDtype('>f4')\n",
      "deltaPhi_dijetlep0   | float                    | AsDtype('>f4')\n",
      "deltaPhi_metdijet    | float                    | AsDtype('>f4')\n",
      "event_MET            | float                    | AsDtype('>f4')\n",
      "event_HT             | float                    | AsDtype('>f4')\n",
      "event_ST             | float                    | AsDtype('>f4')\n",
      "n_Jet                | int32_t                  | AsDtype('>i4')\n",
      "n_bJet               | int32_t                  | AsDtype('>i4')\n",
      "event_btagsf         | float                    | AsDtype('>f4')\n",
      "ljjsys_PT            | float                    | AsDtype('>f4')\n",
      "deltaPhi_ljjsysmet   | float                    | AsDtype('>f4')\n",
      "deltaPhi_ljjsyslep0  | float                    | AsDtype('>f4')\n",
      "deltaPhi_ljjsysjet0  | float                    | AsDtype('>f4')\n",
      "deltaPhi_ljjsysjet1  | float                    | AsDtype('>f4')\n",
      "ljjsys_mass          | float                    | AsDtype('>f4')\n",
      "deepjetQG_jet0       | float                    | AsDtype('>f4')\n",
      "deepjetQG_jet1       | float                    | AsDtype('>f4')\n",
      "event_avgQGscore     | float                    | AsDtype('>f4')\n",
      "event_Rpt            | float                    | AsDtype('>f4')\n"
     ]
    }
   ],
   "source": [
    "## Show all the branch and their type\n",
    "events.show()"
   ]
  },
  {
   "cell_type": "code",
   "execution_count": 7,
   "id": "90d587fa",
   "metadata": {},
   "outputs": [],
   "source": [
    "# Let's read the tree in a dataframe\n",
    "\n",
    "df_full =  events.arrays(library='pd')"
   ]
  },
  {
   "cell_type": "code",
   "execution_count": 8,
   "id": "098e471e",
   "metadata": {},
   "outputs": [
    {
     "data": {
      "text/html": [
       "<div>\n",
       "<style scoped>\n",
       "    .dataframe tbody tr th:only-of-type {\n",
       "        vertical-align: middle;\n",
       "    }\n",
       "\n",
       "    .dataframe tbody tr th {\n",
       "        vertical-align: top;\n",
       "    }\n",
       "\n",
       "    .dataframe thead th {\n",
       "        text-align: right;\n",
       "    }\n",
       "</style>\n",
       "<table border=\"1\" class=\"dataframe\">\n",
       "  <thead>\n",
       "    <tr style=\"text-align: right;\">\n",
       "      <th></th>\n",
       "      <th>index</th>\n",
       "      <th>nEvt</th>\n",
       "      <th>lep0_flavor</th>\n",
       "      <th>lep0_pt</th>\n",
       "      <th>lep0_phi</th>\n",
       "      <th>lep0_eta</th>\n",
       "      <th>lep0_iso</th>\n",
       "      <th>lep0_mt</th>\n",
       "      <th>lep0_sip3d</th>\n",
       "      <th>lep0_deepjet</th>\n",
       "      <th>...</th>\n",
       "      <th>ljjsys_PT</th>\n",
       "      <th>deltaPhi_ljjsysmet</th>\n",
       "      <th>deltaPhi_ljjsyslep0</th>\n",
       "      <th>deltaPhi_ljjsysjet0</th>\n",
       "      <th>deltaPhi_ljjsysjet1</th>\n",
       "      <th>ljjsys_mass</th>\n",
       "      <th>deepjetQG_jet0</th>\n",
       "      <th>deepjetQG_jet1</th>\n",
       "      <th>event_avgQGscore</th>\n",
       "      <th>event_Rpt</th>\n",
       "    </tr>\n",
       "  </thead>\n",
       "  <tbody>\n",
       "    <tr>\n",
       "      <th>0</th>\n",
       "      <td>0</td>\n",
       "      <td>23</td>\n",
       "      <td>-13</td>\n",
       "      <td>45.887268</td>\n",
       "      <td>1.607178</td>\n",
       "      <td>-0.837402</td>\n",
       "      <td>0.000000</td>\n",
       "      <td>29.566328</td>\n",
       "      <td>2.925781</td>\n",
       "      <td>0.054810</td>\n",
       "      <td>...</td>\n",
       "      <td>148.854080</td>\n",
       "      <td>2.908695</td>\n",
       "      <td>2.525638</td>\n",
       "      <td>0.522701</td>\n",
       "      <td>1.170048</td>\n",
       "      <td>414.921326</td>\n",
       "      <td>0.159424</td>\n",
       "      <td>0.522949</td>\n",
       "      <td>0.341187</td>\n",
       "      <td>0.093759</td>\n",
       "    </tr>\n",
       "    <tr>\n",
       "      <th>1</th>\n",
       "      <td>1</td>\n",
       "      <td>29</td>\n",
       "      <td>-13</td>\n",
       "      <td>27.168795</td>\n",
       "      <td>0.016785</td>\n",
       "      <td>-0.995850</td>\n",
       "      <td>0.025366</td>\n",
       "      <td>55.288418</td>\n",
       "      <td>1.150391</td>\n",
       "      <td>0.019623</td>\n",
       "      <td>...</td>\n",
       "      <td>40.035542</td>\n",
       "      <td>1.704648</td>\n",
       "      <td>2.779050</td>\n",
       "      <td>0.657150</td>\n",
       "      <td>0.419004</td>\n",
       "      <td>100.700050</td>\n",
       "      <td>0.904785</td>\n",
       "      <td>0.750000</td>\n",
       "      <td>0.876302</td>\n",
       "      <td>0.582773</td>\n",
       "    </tr>\n",
       "    <tr>\n",
       "      <th>2</th>\n",
       "      <td>2</td>\n",
       "      <td>37</td>\n",
       "      <td>-13</td>\n",
       "      <td>66.803604</td>\n",
       "      <td>2.853516</td>\n",
       "      <td>1.022705</td>\n",
       "      <td>0.010576</td>\n",
       "      <td>90.956818</td>\n",
       "      <td>0.644043</td>\n",
       "      <td>0.004219</td>\n",
       "      <td>...</td>\n",
       "      <td>65.152077</td>\n",
       "      <td>2.984196</td>\n",
       "      <td>1.095542</td>\n",
       "      <td>1.701852</td>\n",
       "      <td>0.190347</td>\n",
       "      <td>171.414841</td>\n",
       "      <td>0.313232</td>\n",
       "      <td>0.825684</td>\n",
       "      <td>0.569458</td>\n",
       "      <td>0.113813</td>\n",
       "    </tr>\n",
       "    <tr>\n",
       "      <th>3</th>\n",
       "      <td>3</td>\n",
       "      <td>78</td>\n",
       "      <td>13</td>\n",
       "      <td>36.846138</td>\n",
       "      <td>3.106445</td>\n",
       "      <td>1.010498</td>\n",
       "      <td>0.104697</td>\n",
       "      <td>0.673874</td>\n",
       "      <td>0.853027</td>\n",
       "      <td>0.011467</td>\n",
       "      <td>...</td>\n",
       "      <td>40.910255</td>\n",
       "      <td>2.135002</td>\n",
       "      <td>2.150139</td>\n",
       "      <td>0.042246</td>\n",
       "      <td>1.401723</td>\n",
       "      <td>161.187424</td>\n",
       "      <td>0.362793</td>\n",
       "      <td>0.696777</td>\n",
       "      <td>0.529785</td>\n",
       "      <td>0.303758</td>\n",
       "    </tr>\n",
       "    <tr>\n",
       "      <th>4</th>\n",
       "      <td>4</td>\n",
       "      <td>105</td>\n",
       "      <td>-13</td>\n",
       "      <td>33.392525</td>\n",
       "      <td>2.098633</td>\n",
       "      <td>-1.825928</td>\n",
       "      <td>0.229012</td>\n",
       "      <td>31.048515</td>\n",
       "      <td>0.982910</td>\n",
       "      <td>0.038177</td>\n",
       "      <td>...</td>\n",
       "      <td>41.693455</td>\n",
       "      <td>2.138128</td>\n",
       "      <td>3.074163</td>\n",
       "      <td>0.136437</td>\n",
       "      <td>2.699744</td>\n",
       "      <td>202.043671</td>\n",
       "      <td>0.748047</td>\n",
       "      <td>0.592773</td>\n",
       "      <td>0.670410</td>\n",
       "      <td>0.183957</td>\n",
       "    </tr>\n",
       "  </tbody>\n",
       "</table>\n",
       "<p>5 rows × 45 columns</p>\n",
       "</div>"
      ],
      "text/plain": [
       "   index  nEvt  lep0_flavor    lep0_pt  lep0_phi  lep0_eta  lep0_iso  \\\n",
       "0      0    23          -13  45.887268  1.607178 -0.837402  0.000000   \n",
       "1      1    29          -13  27.168795  0.016785 -0.995850  0.025366   \n",
       "2      2    37          -13  66.803604  2.853516  1.022705  0.010576   \n",
       "3      3    78           13  36.846138  3.106445  1.010498  0.104697   \n",
       "4      4   105          -13  33.392525  2.098633 -1.825928  0.229012   \n",
       "\n",
       "     lep0_mt  lep0_sip3d  lep0_deepjet  ...   ljjsys_PT  deltaPhi_ljjsysmet  \\\n",
       "0  29.566328    2.925781      0.054810  ...  148.854080            2.908695   \n",
       "1  55.288418    1.150391      0.019623  ...   40.035542            1.704648   \n",
       "2  90.956818    0.644043      0.004219  ...   65.152077            2.984196   \n",
       "3   0.673874    0.853027      0.011467  ...   40.910255            2.135002   \n",
       "4  31.048515    0.982910      0.038177  ...   41.693455            2.138128   \n",
       "\n",
       "   deltaPhi_ljjsyslep0  deltaPhi_ljjsysjet0  deltaPhi_ljjsysjet1  ljjsys_mass  \\\n",
       "0             2.525638             0.522701             1.170048   414.921326   \n",
       "1             2.779050             0.657150             0.419004   100.700050   \n",
       "2             1.095542             1.701852             0.190347   171.414841   \n",
       "3             2.150139             0.042246             1.401723   161.187424   \n",
       "4             3.074163             0.136437             2.699744   202.043671   \n",
       "\n",
       "   deepjetQG_jet0  deepjetQG_jet1  event_avgQGscore  event_Rpt  \n",
       "0        0.159424        0.522949          0.341187   0.093759  \n",
       "1        0.904785        0.750000          0.876302   0.582773  \n",
       "2        0.313232        0.825684          0.569458   0.113813  \n",
       "3        0.362793        0.696777          0.529785   0.303758  \n",
       "4        0.748047        0.592773          0.670410   0.183957  \n",
       "\n",
       "[5 rows x 45 columns]"
      ]
     },
     "execution_count": 8,
     "metadata": {},
     "output_type": "execute_result"
    }
   ],
   "source": [
    "df_full.head()"
   ]
  },
  {
   "cell_type": "code",
   "execution_count": 9,
   "id": "6eff6211",
   "metadata": {},
   "outputs": [],
   "source": [
    "#Let's create a dataframe only using variables used for nn training\n",
    "#We use this dataframe for the evaluation purpose\n",
    "\n",
    "nnvar = ['lep0_pt','lep0_eta','lep0_mt','jet0_pt','jet0_eta', 'jet0_mt',\n",
    "         'jet1_pt','jet1_eta', 'jet1_mt','dijet_pt', 'dijet_mt','deltaR_jet01',\n",
    "         'deltaPhi_metjet0', 'deltaPhi_metjet1', 'deltaPhi_metlep0',\n",
    "         'deltaPhi_jet0lep0', 'deltaPhi_jet1lep0', 'deltaPhi_dijetlep0','deltaPhi_metdijet',\n",
    "         'event_MET', 'event_HT', 'n_Jet','deepjetQG_jet0', 'deepjetQG_jet1', 'event_avgQGscore']\n",
    "\n",
    "\n",
    "df_nn = df_full[nnvar]\n"
   ]
  },
  {
   "cell_type": "markdown",
   "id": "037facab",
   "metadata": {},
   "source": [
    "### Evaluation of trained NN"
   ]
  },
  {
   "cell_type": "code",
   "execution_count": 10,
   "id": "efa243ef",
   "metadata": {},
   "outputs": [],
   "source": [
    "import tensorflow as tf\n",
    "import joblib\n",
    "import warnings\n",
    "warnings.filterwarnings('ignore')"
   ]
  },
  {
   "cell_type": "code",
   "execution_count": 11,
   "id": "015e0074",
   "metadata": {},
   "outputs": [
    {
     "name": "stderr",
     "output_type": "stream",
     "text": [
      "2024-01-11 12:41:28.461303: I tensorflow/compiler/jit/xla_cpu_device.cc:41] Not creating XLA devices, tf_xla_enable_xla_devices not set\n",
      "2024-01-11 12:41:28.461696: I tensorflow/core/platform/cpu_feature_guard.cc:142] This TensorFlow binary is optimized with oneAPI Deep Neural Network Library (oneDNN) to use the following CPU instructions in performance-critical operations:  SSE4.1 SSE4.2 AVX AVX2 FMA\n",
      "To enable them in other operations, rebuild TensorFlow with the appropriate compiler flags.\n",
      "2024-01-11 12:41:28.463765: I tensorflow/core/common_runtime/process_util.cc:146] Creating new thread pool with default inter op setting: 2. Tune using inter_op_parallelism_threads for best performance.\n"
     ]
    },
    {
     "ename": "ValueError",
     "evalue": "Unknown optimizer: Custom>Adam",
     "output_type": "error",
     "traceback": [
      "\u001b[0;31m---------------------------------------------------------------------------\u001b[0m",
      "\u001b[0;31mValueError\u001b[0m                                Traceback (most recent call last)",
      "Cell \u001b[0;32mIn[11], line 4\u001b[0m\n\u001b[1;32m      1\u001b[0m modelname  \u001b[38;5;241m=\u001b[39m pjoin(modelDir,\u001b[38;5;124m'\u001b[39m\u001b[38;5;124mbest_model_wjetsvsM125.h5\u001b[39m\u001b[38;5;124m'\u001b[39m)\n\u001b[1;32m      2\u001b[0m scalername \u001b[38;5;241m=\u001b[39m pjoin(modelDir,\u001b[38;5;124m'\u001b[39m\u001b[38;5;124mscaler_wjetsvsM125.save\u001b[39m\u001b[38;5;124m'\u001b[39m)\n\u001b[0;32m----> 4\u001b[0m mymodel \u001b[38;5;241m=\u001b[39m \u001b[43mtf\u001b[49m\u001b[38;5;241;43m.\u001b[39;49m\u001b[43mkeras\u001b[49m\u001b[38;5;241;43m.\u001b[39;49m\u001b[43mmodels\u001b[49m\u001b[38;5;241;43m.\u001b[39;49m\u001b[43mload_model\u001b[49m\u001b[43m(\u001b[49m\u001b[43mmodelname\u001b[49m\u001b[43m)\u001b[49m\n\u001b[1;32m      5\u001b[0m mymodel\u001b[38;5;241m.\u001b[39mload_weights(modelname)\n\u001b[1;32m      6\u001b[0m myscaler \u001b[38;5;241m=\u001b[39m joblib\u001b[38;5;241m.\u001b[39mload(scalername)\n",
      "File \u001b[0;32m~/miniconda3/envs/al_tf/lib/python3.8/site-packages/tensorflow/python/keras/saving/save.py:206\u001b[0m, in \u001b[0;36mload_model\u001b[0;34m(filepath, custom_objects, compile, options)\u001b[0m\n\u001b[1;32m    203\u001b[0m \u001b[38;5;28;01mwith\u001b[39;00m load_context\u001b[38;5;241m.\u001b[39mload_context(options):\n\u001b[1;32m    204\u001b[0m   \u001b[38;5;28;01mif\u001b[39;00m (h5py \u001b[38;5;129;01mis\u001b[39;00m \u001b[38;5;129;01mnot\u001b[39;00m \u001b[38;5;28;01mNone\u001b[39;00m \u001b[38;5;129;01mand\u001b[39;00m\n\u001b[1;32m    205\u001b[0m       (\u001b[38;5;28misinstance\u001b[39m(filepath, h5py\u001b[38;5;241m.\u001b[39mFile) \u001b[38;5;129;01mor\u001b[39;00m h5py\u001b[38;5;241m.\u001b[39mis_hdf5(filepath))):\n\u001b[0;32m--> 206\u001b[0m     \u001b[38;5;28;01mreturn\u001b[39;00m \u001b[43mhdf5_format\u001b[49m\u001b[38;5;241;43m.\u001b[39;49m\u001b[43mload_model_from_hdf5\u001b[49m\u001b[43m(\u001b[49m\u001b[43mfilepath\u001b[49m\u001b[43m,\u001b[49m\u001b[43m \u001b[49m\u001b[43mcustom_objects\u001b[49m\u001b[43m,\u001b[49m\n\u001b[1;32m    207\u001b[0m \u001b[43m                                            \u001b[49m\u001b[38;5;28;43mcompile\u001b[39;49m\u001b[43m)\u001b[49m\n\u001b[1;32m    209\u001b[0m   filepath \u001b[38;5;241m=\u001b[39m path_to_string(filepath)\n\u001b[1;32m    210\u001b[0m   \u001b[38;5;28;01mif\u001b[39;00m \u001b[38;5;28misinstance\u001b[39m(filepath, six\u001b[38;5;241m.\u001b[39mstring_types):\n",
      "File \u001b[0;32m~/miniconda3/envs/al_tf/lib/python3.8/site-packages/tensorflow/python/keras/saving/hdf5_format.py:199\u001b[0m, in \u001b[0;36mload_model_from_hdf5\u001b[0;34m(filepath, custom_objects, compile)\u001b[0m\n\u001b[1;32m    196\u001b[0m training_config \u001b[38;5;241m=\u001b[39m json_utils\u001b[38;5;241m.\u001b[39mdecode(training_config\u001b[38;5;241m.\u001b[39mdecode(\u001b[38;5;124m'\u001b[39m\u001b[38;5;124mutf-8\u001b[39m\u001b[38;5;124m'\u001b[39m))\n\u001b[1;32m    198\u001b[0m \u001b[38;5;66;03m# Compile model.\u001b[39;00m\n\u001b[0;32m--> 199\u001b[0m model\u001b[38;5;241m.\u001b[39mcompile(\u001b[38;5;241m*\u001b[39m\u001b[38;5;241m*\u001b[39m\u001b[43msaving_utils\u001b[49m\u001b[38;5;241;43m.\u001b[39;49m\u001b[43mcompile_args_from_training_config\u001b[49m\u001b[43m(\u001b[49m\n\u001b[1;32m    200\u001b[0m \u001b[43m    \u001b[49m\u001b[43mtraining_config\u001b[49m\u001b[43m,\u001b[49m\u001b[43m \u001b[49m\u001b[43mcustom_objects\u001b[49m\u001b[43m)\u001b[49m)\n\u001b[1;32m    201\u001b[0m saving_utils\u001b[38;5;241m.\u001b[39mtry_build_compiled_arguments(model)\n\u001b[1;32m    203\u001b[0m \u001b[38;5;66;03m# Set optimizer weights.\u001b[39;00m\n",
      "File \u001b[0;32m~/miniconda3/envs/al_tf/lib/python3.8/site-packages/tensorflow/python/keras/saving/saving_utils.py:212\u001b[0m, in \u001b[0;36mcompile_args_from_training_config\u001b[0;34m(training_config, custom_objects)\u001b[0m\n\u001b[1;32m    210\u001b[0m \u001b[38;5;28;01mwith\u001b[39;00m generic_utils\u001b[38;5;241m.\u001b[39mCustomObjectScope(custom_objects):\n\u001b[1;32m    211\u001b[0m   optimizer_config \u001b[38;5;241m=\u001b[39m training_config[\u001b[38;5;124m'\u001b[39m\u001b[38;5;124moptimizer_config\u001b[39m\u001b[38;5;124m'\u001b[39m]\n\u001b[0;32m--> 212\u001b[0m   optimizer \u001b[38;5;241m=\u001b[39m \u001b[43moptimizers\u001b[49m\u001b[38;5;241;43m.\u001b[39;49m\u001b[43mdeserialize\u001b[49m\u001b[43m(\u001b[49m\u001b[43moptimizer_config\u001b[49m\u001b[43m)\u001b[49m\n\u001b[1;32m    214\u001b[0m   \u001b[38;5;66;03m# Recover losses.\u001b[39;00m\n\u001b[1;32m    215\u001b[0m   loss \u001b[38;5;241m=\u001b[39m \u001b[38;5;28;01mNone\u001b[39;00m\n",
      "File \u001b[0;32m~/miniconda3/envs/al_tf/lib/python3.8/site-packages/tensorflow/python/keras/optimizers.py:83\u001b[0m, in \u001b[0;36mdeserialize\u001b[0;34m(config, custom_objects)\u001b[0m\n\u001b[1;32m     81\u001b[0m \u001b[38;5;28;01mif\u001b[39;00m config[\u001b[38;5;124m'\u001b[39m\u001b[38;5;124mclass_name\u001b[39m\u001b[38;5;124m'\u001b[39m]\u001b[38;5;241m.\u001b[39mlower() \u001b[38;5;129;01min\u001b[39;00m all_classes:\n\u001b[1;32m     82\u001b[0m   config[\u001b[38;5;124m'\u001b[39m\u001b[38;5;124mclass_name\u001b[39m\u001b[38;5;124m'\u001b[39m] \u001b[38;5;241m=\u001b[39m config[\u001b[38;5;124m'\u001b[39m\u001b[38;5;124mclass_name\u001b[39m\u001b[38;5;124m'\u001b[39m]\u001b[38;5;241m.\u001b[39mlower()\n\u001b[0;32m---> 83\u001b[0m \u001b[38;5;28;01mreturn\u001b[39;00m \u001b[43mdeserialize_keras_object\u001b[49m\u001b[43m(\u001b[49m\n\u001b[1;32m     84\u001b[0m \u001b[43m    \u001b[49m\u001b[43mconfig\u001b[49m\u001b[43m,\u001b[49m\n\u001b[1;32m     85\u001b[0m \u001b[43m    \u001b[49m\u001b[43mmodule_objects\u001b[49m\u001b[38;5;241;43m=\u001b[39;49m\u001b[43mall_classes\u001b[49m\u001b[43m,\u001b[49m\n\u001b[1;32m     86\u001b[0m \u001b[43m    \u001b[49m\u001b[43mcustom_objects\u001b[49m\u001b[38;5;241;43m=\u001b[39;49m\u001b[43mcustom_objects\u001b[49m\u001b[43m,\u001b[49m\n\u001b[1;32m     87\u001b[0m \u001b[43m    \u001b[49m\u001b[43mprintable_module_name\u001b[49m\u001b[38;5;241;43m=\u001b[39;49m\u001b[38;5;124;43m'\u001b[39;49m\u001b[38;5;124;43moptimizer\u001b[39;49m\u001b[38;5;124;43m'\u001b[39;49m\u001b[43m)\u001b[49m\n",
      "File \u001b[0;32m~/miniconda3/envs/al_tf/lib/python3.8/site-packages/tensorflow/python/keras/utils/generic_utils.py:346\u001b[0m, in \u001b[0;36mdeserialize_keras_object\u001b[0;34m(identifier, module_objects, custom_objects, printable_module_name)\u001b[0m\n\u001b[1;32m    343\u001b[0m \u001b[38;5;28;01mif\u001b[39;00m \u001b[38;5;28misinstance\u001b[39m(identifier, \u001b[38;5;28mdict\u001b[39m):\n\u001b[1;32m    344\u001b[0m   \u001b[38;5;66;03m# In this case we are dealing with a Keras config dictionary.\u001b[39;00m\n\u001b[1;32m    345\u001b[0m   config \u001b[38;5;241m=\u001b[39m identifier\n\u001b[0;32m--> 346\u001b[0m   (\u001b[38;5;28mcls\u001b[39m, cls_config) \u001b[38;5;241m=\u001b[39m \u001b[43mclass_and_config_for_serialized_keras_object\u001b[49m\u001b[43m(\u001b[49m\n\u001b[1;32m    347\u001b[0m \u001b[43m      \u001b[49m\u001b[43mconfig\u001b[49m\u001b[43m,\u001b[49m\u001b[43m \u001b[49m\u001b[43mmodule_objects\u001b[49m\u001b[43m,\u001b[49m\u001b[43m \u001b[49m\u001b[43mcustom_objects\u001b[49m\u001b[43m,\u001b[49m\u001b[43m \u001b[49m\u001b[43mprintable_module_name\u001b[49m\u001b[43m)\u001b[49m\n\u001b[1;32m    349\u001b[0m   \u001b[38;5;28;01mif\u001b[39;00m \u001b[38;5;28mhasattr\u001b[39m(\u001b[38;5;28mcls\u001b[39m, \u001b[38;5;124m'\u001b[39m\u001b[38;5;124mfrom_config\u001b[39m\u001b[38;5;124m'\u001b[39m):\n\u001b[1;32m    350\u001b[0m     arg_spec \u001b[38;5;241m=\u001b[39m tf_inspect\u001b[38;5;241m.\u001b[39mgetfullargspec(\u001b[38;5;28mcls\u001b[39m\u001b[38;5;241m.\u001b[39mfrom_config)\n",
      "File \u001b[0;32m~/miniconda3/envs/al_tf/lib/python3.8/site-packages/tensorflow/python/keras/utils/generic_utils.py:296\u001b[0m, in \u001b[0;36mclass_and_config_for_serialized_keras_object\u001b[0;34m(config, module_objects, custom_objects, printable_module_name)\u001b[0m\n\u001b[1;32m    294\u001b[0m \u001b[38;5;28mcls\u001b[39m \u001b[38;5;241m=\u001b[39m get_registered_object(class_name, custom_objects, module_objects)\n\u001b[1;32m    295\u001b[0m \u001b[38;5;28;01mif\u001b[39;00m \u001b[38;5;28mcls\u001b[39m \u001b[38;5;129;01mis\u001b[39;00m \u001b[38;5;28;01mNone\u001b[39;00m:\n\u001b[0;32m--> 296\u001b[0m   \u001b[38;5;28;01mraise\u001b[39;00m \u001b[38;5;167;01mValueError\u001b[39;00m(\u001b[38;5;124m'\u001b[39m\u001b[38;5;124mUnknown \u001b[39m\u001b[38;5;124m'\u001b[39m \u001b[38;5;241m+\u001b[39m printable_module_name \u001b[38;5;241m+\u001b[39m \u001b[38;5;124m'\u001b[39m\u001b[38;5;124m: \u001b[39m\u001b[38;5;124m'\u001b[39m \u001b[38;5;241m+\u001b[39m class_name)\n\u001b[1;32m    298\u001b[0m cls_config \u001b[38;5;241m=\u001b[39m config[\u001b[38;5;124m'\u001b[39m\u001b[38;5;124mconfig\u001b[39m\u001b[38;5;124m'\u001b[39m]\n\u001b[1;32m    299\u001b[0m \u001b[38;5;66;03m# Check if `cls_config` is a list. If it is a list, return the class and the\u001b[39;00m\n\u001b[1;32m    300\u001b[0m \u001b[38;5;66;03m# associated class configs for recursively deserialization. This case will\u001b[39;00m\n\u001b[1;32m    301\u001b[0m \u001b[38;5;66;03m# happen on the old version of sequential model (e.g. `keras_version` ==\u001b[39;00m\n\u001b[1;32m    302\u001b[0m \u001b[38;5;66;03m# \"2.0.6\"), which is serialized in a different structure, for example\u001b[39;00m\n\u001b[1;32m    303\u001b[0m \u001b[38;5;66;03m# \"{'class_name': 'Sequential',\u001b[39;00m\n\u001b[1;32m    304\u001b[0m \u001b[38;5;66;03m#   'config': [{'class_name': 'Embedding', 'config': ...}, {}, ...]}\".\u001b[39;00m\n",
      "\u001b[0;31mValueError\u001b[0m: Unknown optimizer: Custom>Adam"
     ]
    }
   ],
   "source": [
    "modelname  = pjoin(modelDir,'best_model_wjetsvsM125.h5')\n",
    "scalername = pjoin(modelDir,'scaler_wjetsvsM125.save')\n",
    "                  \n",
    "mymodel = tf.keras.models.load_model(modelname)\n",
    "mymodel.load_weights(modelname)\n",
    "myscaler = joblib.load(scalername)"
   ]
  },
  {
   "cell_type": "code",
   "execution_count": null,
   "id": "587f3db3",
   "metadata": {},
   "outputs": [],
   "source": []
  }
 ],
 "metadata": {
  "kernelspec": {
   "display_name": "Python 3 (ipykernel)",
   "language": "python",
   "name": "python3"
  },
  "language_info": {
   "codemirror_mode": {
    "name": "ipython",
    "version": 3
   },
   "file_extension": ".py",
   "mimetype": "text/x-python",
   "name": "python",
   "nbconvert_exporter": "python",
   "pygments_lexer": "ipython3",
   "version": "3.8.17"
  }
 },
 "nbformat": 4,
 "nbformat_minor": 5
}
