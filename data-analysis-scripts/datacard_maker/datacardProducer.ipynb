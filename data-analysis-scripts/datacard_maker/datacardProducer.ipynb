{
 "cells": [
  {
   "cell_type": "code",
   "execution_count": 1,
   "id": "ce2cd3d5-e706-4912-b383-31ba5d206476",
   "metadata": {},
   "outputs": [],
   "source": [
    "import datacardMaker as dcm"
   ]
  },
  {
   "cell_type": "code",
   "execution_count": 2,
   "id": "011d47df-3e9f-4b7b-8682-2c63adc92b17",
   "metadata": {},
   "outputs": [],
   "source": [
    "datacard = dcm.DatacardMaker()"
   ]
  },
  {
   "cell_type": "code",
   "execution_count": null,
   "id": "770b6847-a6ce-4962-bcc3-4a48b67aa97a",
   "metadata": {},
   "outputs": [],
   "source": []
  },
  {
   "cell_type": "code",
   "execution_count": 3,
   "id": "d3c09b73-93c0-481f-876b-630ac921f152",
   "metadata": {},
   "outputs": [],
   "source": [
    "datacard.setChannel('3L')\n",
    "datacard.setYear('2018')\n",
    "datacard.setVariable('LTMET')\n",
    "datacard.setSignal(\"VLLM400\")\n",
    "datacard.setBackground(['DY',\"TT\",\"WZ\"])\n",
    "datacard.setData('data_obs')\n",
    "datacard.setInputFile(\"shape_histograms/SHAPES_VLLM400_ch3L2018_LTMET.root\")\n",
    "\n",
    "datacard.outputdir = \"datacard_output/\"\n",
    "\n",
    "##systematics\n",
    "datacard.addSystematics(name='lumi'      ,model='lnN',variation=1.025,process=['*'])\n",
    "datacard.addSystematics(name='WZnorm'    ,model='lnN',variation=1.2  ,process=['WZ'])\n",
    "datacard.addSystematics(name='CMS_btag'  ,model='shape',variation=1  ,process=['TT','VLLM400'])\n",
    "datacard.addSystematics(name='CMS_JES'   ,model='shape',variation=1  ,process=['DY','TT'])\n",
    "datacard.addSystematics(name='CMS_POGID' ,model='shape',variation=1  ,process=['DY','TT','WZ','VLLM400'])\n",
    "\n",
    "datacard.setStatOnly(False)"
   ]
  },
  {
   "cell_type": "code",
   "execution_count": 4,
   "id": "c9365648-38bd-4cbc-86b8-1bfcc6dcacd2",
   "metadata": {},
   "outputs": [
    {
     "name": "stdout",
     "output_type": "stream",
     "text": [
      "datacard settings\n",
      "channel  : 3L\n",
      "year     : 2018\n",
      "variable : LTMET\n",
      "inputfile: shape_histograms/SHAPES_VLLM400_ch3L2018_LTMET.root\n",
      "processes: ['VLLM400', 'DY', 'TT', 'WZ', 'data_obs']\n",
      "signal   : VLLM400\n",
      "StatOnly : False\n",
      "outputdir: datacard_output/\n",
      "\n",
      "\u001b[32msyst table\u001b[0m\n",
      "\n",
      "lumi lnN 1.025 ['VLLM400', 'DY', 'TT', 'WZ']\n",
      "WZnorm lnN 1.2 ['WZ']\n",
      "CMS_btag shape 1 ['TT', 'VLLM400']\n",
      "CMS_JES shape 1 ['DY', 'TT']\n",
      "CMS_POGID shape 1 ['DY', 'TT', 'WZ', 'VLLM400']\n",
      "\n"
     ]
    }
   ],
   "source": [
    "datacard.show()"
   ]
  },
  {
   "cell_type": "code",
   "execution_count": 5,
   "id": "d54f4fa2-b544-4d6a-932b-9de944757db6",
   "metadata": {},
   "outputs": [
    {
     "name": "stdout",
     "output_type": "stream",
     "text": [
      "datacard maker::begin\n",
      "\n",
      "No histogram prefix (hprefix) chosen\n",
      "Nomenclature::\n",
      "histogram prefix: ch<channel><year>_<variable>\n",
      "histogram name  : <hprefix>_<process>_<syst>\n",
      "Use setHistogramPrefix() to set externally\n",
      "histogram prefix set to:  ch3L2018_LTMET\n",
      "\n",
      "\n",
      "process/hname nominal/yield-integral\n",
      "VLLM400/ch3L2018_LTMET_VLLM400/11.0\n",
      "DY/ch3L2018_LTMET_DY/18.0\n",
      "TT/ch3L2018_LTMET_TT/9.0\n",
      "WZ/ch3L2018_LTMET_WZ/24.0\n",
      "data_obs/ch3L2018_LTMET_data_obs/52.0\n",
      "\n",
      "created directories to save datacards\n",
      "main dir    : datacard_output/SHAPES_VLLM400_LTMET :: save yearwise datacard directories\n",
      "datacard dir: datacard_output/SHAPES_VLLM400_LTMET/SHAPES_VLLM400_ch3L2018_LTMET :: save datacards + combined shape histograms\n",
      "\n",
      "\n",
      "creating datacard text file\n",
      "\n",
      "\n",
      "processes (without data_obs):  ['VLLM400', 'DY', 'TT', 'WZ']\n",
      "SHAPE histogram filename:  SHAPES_VLLM400_ch3L2018_LTMET.root\n",
      "\n",
      "datacard file    >>> datacard_output/SHAPES_VLLM400_LTMET/SHAPES_VLLM400_ch3L2018_LTMET/datacard_VLLM400_ch3L2018_LTMET.txt\n",
      "shape histograms >>> datacard_output/SHAPES_VLLM400_LTMET/SHAPES_VLLM400_ch3L2018_LTMET/SHAPES_VLLM400_ch3L2018_LTMET.root\n",
      "\n",
      "datacard maker::end\n"
     ]
    }
   ],
   "source": [
    "datacard.make()"
   ]
  },
  {
   "cell_type": "code",
   "execution_count": null,
   "id": "cc11bb3e-a55a-4d72-9cd5-9cf5c2d01350",
   "metadata": {},
   "outputs": [],
   "source": []
  }
 ],
 "metadata": {
  "kernelspec": {
   "display_name": "Python 3 (ipykernel)",
   "language": "python",
   "name": "python3"
  },
  "language_info": {
   "codemirror_mode": {
    "name": "ipython",
    "version": 3
   },
   "file_extension": ".py",
   "mimetype": "text/x-python",
   "name": "python",
   "nbconvert_exporter": "python",
   "pygments_lexer": "ipython3",
   "version": "3.10.18"
  }
 },
 "nbformat": 4,
 "nbformat_minor": 5
}
