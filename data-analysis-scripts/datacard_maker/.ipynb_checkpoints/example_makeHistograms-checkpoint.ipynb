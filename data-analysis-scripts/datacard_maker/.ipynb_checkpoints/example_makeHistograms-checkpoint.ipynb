{
 "cells": [
  {
   "cell_type": "code",
   "execution_count": 1,
   "id": "b1f5bd53-75ac-4fc1-8117-177a1ea3720d",
   "metadata": {},
   "outputs": [],
   "source": [
    "#create a 3 bin histograms\n",
    "#process: VLL, TT, DY, WZ\n",
    "#data-obs\n",
    "\n",
    "#Naming nomenclature:\n",
    "# For each process: Shapes_<process>_ch<channel><year>_<variable>.root\n",
    "# Combined shape histograms: SHAPES_<signal>_ch<channel><year>_<variable>.root\n",
    "# NB: for combined shape histograms <signal> is important, as it distinguishes from other signal mass points.\n",
    "# Example: SHAPES_VLLtauM400_ch3L2018_LTMET.root\n",
    "# It means the shape histograms are for VLLtauM400 signal, channel=3L, year= 2018, discriminating variable=LTMET\n",
    "# This way of naming would be easy to combine channel wise, yearwise later at datacard level\n",
    "\n",
    "#Systematics Naming nomenclature\n",
    "# nominal: ch<channel><year>_<variable> \n",
    "# Syst Up: ch<channel><year>_<variable>_<SystName>Up\n",
    "# Syst Down: ch<channel><year>_<variable>_<SystName>Down\n",
    "# example:\n",
    "# nominal: ch3L2018_LTMET_DY\n",
    "# CMS_btagUp: ch3L2018_LTMET_DY_CMS_btagUp\n",
    "# CMS_btagDown: ch3L2018_LTMET_DY_CMS_btagDown\n",
    "\n",
    "#Goal of this notebook is to create a root file that contains shape histograms and systematic variations\n",
    "#of background processes, signal and data_obs\n",
    "\n",
    "# data histograms should be always named as: data_obs\n",
    "# for other process: use some sensible names, not too long, not too confusing\n",
    "\n",
    "## example below:\n",
    "# We have 5 process: VLLM400,DY,TT,WZ,data_obs\n",
    "# channel : 3L\n",
    "# year: 2018\n",
    "# variable: LTMET\n",
    "\n",
    "# Let's create dummy histograms that has 3 bins and some emulated systematic variations\n",
    "# CMS_btag, CMS_jes, CMS_POGID\n"
   ]
  },
  {
   "cell_type": "code",
   "execution_count": 2,
   "id": "6144060f-e7ef-4c8a-a91c-86757769d2b3",
   "metadata": {},
   "outputs": [],
   "source": [
    "#create dummy histograms"
   ]
  },
  {
   "cell_type": "code",
   "execution_count": 3,
   "id": "3b8c47c6-9835-4fef-86ef-2dc1516d796a",
   "metadata": {},
   "outputs": [],
   "source": [
    "import ROOT\n",
    "import random\n",
    "\n",
    "ROOT.gROOT.SetBatch(True)\n",
    "from IPython.display import Image, display"
   ]
  },
  {
   "cell_type": "code",
   "execution_count": 4,
   "id": "e9f1ebdb-03d3-44fa-8b02-31d39dc6317e",
   "metadata": {},
   "outputs": [],
   "source": [
    "def make_random_variation(hist,systname,variation_value,tag):\n",
    "    h_new = hist.Clone(f\"{hist.GetName()}_{systname}{tag}\")\n",
    "    #h_new.SetTitle(f\"{h_new.GetName()new_name} (Random Variation)\")\n",
    "    for bin in range(1, h_new.GetNbinsX() + 1):\n",
    "        original = h_new.GetBinContent(bin)\n",
    "        variation = random.uniform(0-variation_value, 0+variation_value)\n",
    "        new_val = original * (1 + variation)\n",
    "        h_new.SetBinContent(bin, new_val)\n",
    "        #print(f\"{new_name} - Bin {bin}: Orig={original:.1f}, Var={variation*100:+.1f}%, New={new_val:.1f}\")\n",
    "    return h_new\n",
    "\n",
    "def createHist(process,channel,year,variable,eventsInfo,addSyst=[]):\n",
    "    histname = f\"ch{channel}{year}_{variable}_{process}\"\n",
    "    h_dummy=ROOT.TH1F(f\"{histname}\",f\"{process}_{variable}\",3,0,3)\n",
    "\n",
    "    #dummy content\n",
    "    for index,binname in enumerate(eventsInfo.keys()):\n",
    "        binnumber = index+1\n",
    "        binevents = eventsInfo[binname]\n",
    "        h_dummy.SetBinContent(binnumber,binevents)\n",
    "        h_dummy.GetXaxis().SetBinLabel(binnumber,binname)\n",
    "    \n",
    "    #addSyst\n",
    "    h_syst_list=[]\n",
    "    for syst in addSyst:\n",
    "        systname,variation = syst\n",
    "        h_up = make_random_variation(h_dummy,systname,variation,'Up')\n",
    "        h_dn = make_random_variation(h_dummy,systname,variation,'Down')\n",
    "        h_syst_list.extend([h_up,h_dn])\n",
    "    \n",
    "    #for data no variation\n",
    "    if process==\"data_obs\":h_syst_list=[]\n",
    "    \n",
    "    #save in disk\n",
    "    filename=f'Shapes_{process}_ch{channel}{year}_{variable}.root'\n",
    "    rfile=ROOT.TFile.Open(filename,'RECREATE')\n",
    "    rfile.cd()\n",
    "    h_dummy.Write()\n",
    "    for h in h_syst_list:\n",
    "        h.Write()\n",
    "    rfile.Write()\n",
    "    rfile.Print()\n",
    "    rfile.Close()"
   ]
  },
  {
   "cell_type": "code",
   "execution_count": 5,
   "id": "4ebb606f-2540-4869-b8bd-ba2c7eaef769",
   "metadata": {},
   "outputs": [],
   "source": [
    "VLL_eventsinfo   = {'bin1':3,'bin2':1,'bin3':7}\n",
    "TT_eventsinfo    = {'bin1':4,'bin2':1,'bin3':4}\n",
    "DY_eventsinfo    = {'bin1':2,'bin2':7,'bin3':9}\n",
    "WZ_eventsinfo    = {'bin1':7,'bin2':4,'bin3':13}\n",
    "data_eventsinfo  = {'bin1':14,'bin2':9,'bin3':29}\n",
    "\n",
    "shape_syst= [\n",
    "    (\"CMS_btag\",0.05),\n",
    "    (\"CMS_JES\",0.1),\n",
    "    (\"CMS_POGID\",0.15)\n",
    "]\n"
   ]
  },
  {
   "cell_type": "code",
   "execution_count": 6,
   "id": "6efcfd7d-34ab-4b82-b080-dcc4b0c80bfe",
   "metadata": {},
   "outputs": [
    {
     "name": "stdout",
     "output_type": "stream",
     "text": [
      "TFile: name=Shapes_VLLM400_ch3L2018_LTMET.root, title=, option=CREATE\n",
      "TFile: name=Shapes_TT_ch3L2018_LTMET.root, title=, option=CREATE\n",
      "TFile: name=Shapes_DY_ch3L2018_LTMET.root, title=, option=CREATE\n",
      "TFile: name=Shapes_WZ_ch3L2018_LTMET.root, title=, option=CREATE\n",
      "TFile: name=Shapes_data_obs_ch3L2018_LTMET.root, title=, option=CREATE\n"
     ]
    }
   ],
   "source": [
    "createHist(process='VLLM400' ,channel='3L',year=\"2018\",variable=\"LTMET\",eventsInfo=VLL_eventsinfo,addSyst=shape_syst)\n",
    "createHist(process='TT'      ,channel='3L',year=\"2018\",variable=\"LTMET\",eventsInfo=TT_eventsinfo,addSyst=shape_syst)\n",
    "createHist(process='DY'      ,channel='3L',year=\"2018\",variable=\"LTMET\",eventsInfo=DY_eventsinfo,addSyst=shape_syst)\n",
    "createHist(process='WZ'      ,channel='3L',year=\"2018\",variable=\"LTMET\",eventsInfo=WZ_eventsinfo,addSyst=shape_syst)\n",
    "createHist(process='data_obs',channel='3L',year=\"2018\",variable=\"LTMET\",eventsInfo=data_eventsinfo,addSyst=shape_syst)"
   ]
  },
  {
   "cell_type": "code",
   "execution_count": 7,
   "id": "fc38d7db-468d-4d21-8ea1-8db811227716",
   "metadata": {},
   "outputs": [
    {
     "name": "stdout",
     "output_type": "stream",
     "text": [
      "counting-experiment.png\t\t     Shapes_VLLM400_ch3L2018_LTMET.root\n",
      "example_makeHistograms.ipynb\t     SHAPES_VLLM400_ch3L2018_LTMET.root\n",
      "Shapes_data_obs_ch3L2018_LTMET.root  Shapes_WZ_ch3L2018_LTMET.root\n",
      "Shapes_DY_ch3L2018_LTMET.root\t     syst-example.png\n",
      "Shapes_TT_ch3L2018_LTMET.root\n"
     ]
    }
   ],
   "source": [
    "!ls"
   ]
  },
  {
   "cell_type": "markdown",
   "id": "f885d2cc-01d1-4170-af28-3605de14ac91",
   "metadata": {},
   "source": [
    "## Plotting"
   ]
  },
  {
   "cell_type": "code",
   "execution_count": 8,
   "id": "6aa99170-d80f-4fda-8b12-55c323007fc4",
   "metadata": {},
   "outputs": [],
   "source": [
    "def hStyle(h,linecolor,fillcolor):\n",
    "    h.SetLineColor(linecolor)\n",
    "    h.SetFillColor(fillcolor)\n",
    "    return h\n"
   ]
  },
  {
   "cell_type": "code",
   "execution_count": 9,
   "id": "6ca1d730-88f7-4ad4-b887-a0d6893af108",
   "metadata": {},
   "outputs": [
    {
     "name": "stderr",
     "output_type": "stream",
     "text": [
      "Info in <TCanvas::Print>: png file counting-experiment.png has been created\n"
     ]
    },
    {
     "data": {
      "text/html": [
       "\n",
       "\n",
       "<div id=\"root_plot_1753173037023\" style=\"width: 600px; height: 600px; position: relative\">\n",
       "</div>\n",
       "\n",
       "<script>\n",
       "\n",
       "function display_root_plot_1753173037023(Core) {\n",
       "   let obj = Core.parse({\"_typename\":\"TCanvasWebSnapshot\",\"fUniqueID\":0,\"fBits\":0,\"fObjectID\":\"\",\"fOption\":\"\",\"fKind\":3,\"fSnapshot\":{\"_typename\":\"TCanvas\",\"fUniqueID\":0,\"fBits\":3342344,\"fLineColor\":1,\"fLineStyle\":1,\"fLineWidth\":1,\"fFillColor\":0,\"fFillStyle\":1001,\"fLeftMargin\":0.1,\"fRightMargin\":0.1,\"fBottomMargin\":0.1,\"fTopMargin\":0.1,\"fXfile\":2,\"fYfile\":2,\"fAfile\":1,\"fXstat\":0.99,\"fYstat\":0.99,\"fAstat\":2,\"fFrameFillColor\":0,\"fFrameLineColor\":1,\"fFrameFillStyle\":1001,\"fFrameLineStyle\":1,\"fFrameLineWidth\":1,\"fFrameBorderSize\":1,\"fFrameBorderMode\":0,\"fX1\":-0.375000027939679,\"fY1\":-6.25000046566131,\"fX2\":3.37500002793968,\"fY2\":56.2500004656613,\"fXtoAbsPixelk\":59.600003552437,\"fXtoPixelk\":59.600003552437,\"fXtoPixel\":158.933330965042,\"fYtoAbsPixelk\":514.799996590614,\"fYtoPixelk\":514.799996590614,\"fYtoPixel\":-9.15199986362457,\"fUtoAbsPixelk\":0,\"fUtoPixelk\":0,\"fUtoPixel\":596,\"fVtoAbsPixelk\":572,\"fVtoPixelk\":572,\"fVtoPixel\":-572,\"fAbsPixeltoXk\":-0.375000027939679,\"fPixeltoXk\":-0.375000027939679,\"fPixeltoX\":0.00629194640248214,\"fAbsPixeltoYk\":56.2500004656613,\"fPixeltoYk\":-6.25000046566131,\"fPixeltoY\":-0.109265735893921,\"fXlowNDC\":0,\"fYlowNDC\":0,\"fXUpNDC\":1,\"fYUpNDC\":1,\"fWNDC\":1,\"fHNDC\":1,\"fAbsXlowNDC\":0,\"fAbsYlowNDC\":0,\"fAbsWNDC\":1,\"fAbsHNDC\":1,\"fUxmin\":0,\"fUymin\":0,\"fUxmax\":3,\"fUymax\":50,\"fTheta\":30,\"fPhi\":30,\"fAspectRatio\":0,\"fNumber\":0,\"fTickx\":1,\"fTicky\":1,\"fLogx\":0,\"fLogy\":0,\"fLogz\":0,\"fPadPaint\":0,\"fCrosshair\":0,\"fCrosshairPos\":0,\"fBorderSize\":2,\"fBorderMode\":0,\"fModified\":false,\"fGridx\":false,\"fGridy\":false,\"fAbsCoord\":false,\"fEditable\":true,\"fFixedAspectRatio\":false,\"fPrimitives\":{\"_typename\":\"TList\",\"name\":\"TList\",\"arr\":[],\"opt\":[]},\"fExecs\":null,\"fName\":\"can\",\"fTitle\":\"canvas\",\"fNumPaletteColor\":0,\"fNextPaletteColor\":0,\"fDISPLAY\":\"$DISPLAY\",\"fDoubleBuffer\":0,\"fRetained\":true,\"fXsizeUser\":0,\"fYsizeUser\":0,\"fXsizeReal\":20,\"fYsizeReal\":20,\"fWindowTopX\":0,\"fWindowTopY\":0,\"fWindowWidth\":0,\"fWindowHeight\":0,\"fCw\":596,\"fCh\":572,\"fCatt\":{\"_typename\":\"TAttCanvas\",\"fXBetween\":2,\"fYBetween\":2,\"fTitleFromTop\":1.2,\"fXdate\":0.2,\"fYdate\":0.3,\"fAdate\":1},\"kMoveOpaque\":true,\"kResizeOpaque\":true,\"fHighLightColor\":2,\"fBatch\":true,\"kShowEventStatus\":false,\"kAutoExec\":true,\"kMenuBar\":true},\"fActive\":false,\"fReadOnly\":true,\"fWithoutPrimitives\":false,\"fHasExecs\":false,\"fPrimitives\":[{\"_typename\":\"TWebSnapshot\",\"fUniqueID\":0,\"fBits\":0,\"fObjectID\":\"\",\"fOption\":\"\",\"fKind\":4,\"fSnapshot\":{\"_typename\":\"TWebPainting\",\"fUniqueID\":0,\"fBits\":0,\"fOper\":\"0:255,255,255;1:0,0,0;2:255,0,0;3:0,255,0;4:0,0,255;5:255,255,0;6:255,0,255;7:0,255,255;8:89,211,84;9:89,84,216;10:254,254,254;11:192,182,172;12:76,76,76;13:102,102,102;14:127,127,127;15:153,153,153;16:178,178,178;17:204,204,204;18:229,229,229;19:242,242,242;20:204,198,170;21:204,198,170;22:193,191,168;23:186,181,163;24:178,165,150;25:183,163,155;26:173,153,140;27:155,142,130;28:135,102,86;29:175,206,198;30:132,193,163;31:137,168,160;32:130,158,140;33:173,188,198;34:122,142,153;35:117,137,145;36:104,130,150;37:109,122,132;38:124,153,209;39:127,127,155;40:170,165,191;41:211,206,135;42:221,186,135;43:188,158,130;44:198,153,124;45:191,130,119;46:206,94,96;47:170,142,147;48:165,119,122;49:147,104,112;50:211,89,84;51:146,0,255;52:122,0,255;53:98,0,255;54:74,0,255;55:51,0,255;56:27,0,255;57:3,0,255;58:0,20,255;59:0,44,255;60:0,68,255;61:0,91,255;62:0,115,255;63:0,139,255;64:0,163,255;65:0,187,255;66:0,210,255;67:0,234,255;68:0,255,251;69:0,255,227;70:0,255,204;71:0,255,180;72:0,255,156;73:0,255,132;74:0,255,108;75:0,255,85;76:0,255,61;77:0,255,37;78:0,255,13;79:10,255,0;80:34,255,0;81:57,255,0;82:81,255,0;83:105,255,0;84:129,255,0;85:153,255,0;86:176,255,0;87:200,255,0;88:224,255,0;89:248,255,0;90:255,238,0;91:255,214,0;92:255,190,0;93:255,166,0;94:255,142,0;95:255,119,0;96:255,95,0;97:255,71,0;98:255,47,0;99:255,23,0;100:111,45,168;101:165,42,42;102:178,190,181;103:87,144,252;104:248,156,32;105:228,37,54;106:150,74,139;107:156,156,161;108:122,33,221;109:24,69,251;110:255,94,2;111:201,31,22;112:200,73,169;113:173,173,125;114:134,200,221;115:87,141,255;116:101,99,100;117:63,144,218;118:255,169,14;119:189,31,1;120:148,164,162;121:131,45,182;122:169,107,89;123:231,99,0;124:185,172,112;125:113,117,129;126:146,218,221;127:178,178,178;201:91,91,91;202:122,122,122;203:183,183,183;204:214,214,214;205:137,15,15;206:183,20,20;207:234,71,71;208:239,117,117;209:15,137,15;210:20,183,20;211:71,234,71;212:117,239,117;213:15,15,137;214:20,20,183;215:71,71,234;216:117,117,239;217:137,137,15;218:183,183,20;219:234,234,71;220:239,239,117;221:137,15,137;222:183,20,183;223:234,71,234;224:239,117,239;225:15,137,137;226:20,183,183;227:71,234,234;228:117,239,239;390:255,255,204;391:255,255,153;392:204,204,153;393:255,255,102;394:204,204,102;395:153,153,102;396:255,255,51;397:204,204,51;398:153,153,51;399:102,102,51;400:255,255,0;401:204,204,0;402:153,153,0;403:102,102,0;404:51,51,0;406:204,255,204;407:153,255,153;408:153,204,153;409:102,255,102;410:102,204,102;411:102,153,102;412:51,255,51;413:51,204,51;414:51,153,51;415:51,102,51;416:0,255,0;417:0,204,0;418:0,153,0;419:0,102,0;420:0,51,0;422:204,255,255;423:153,255,255;424:153,204,204;425:102,255,255;426:102,204,204;427:102,153,153;428:51,255,255;429:51,204,204;430:51,153,153;431:51,102,102;432:0,255,255;433:0,204,204;434:0,153,153;435:0,102,102;436:0,51,51;590:204,204,255;591:153,153,255;592:153,153,204;593:102,102,255;594:102,102,204;595:102,102,153;596:51,51,255;597:51,51,204;598:51,51,153;599:51,51,102;600:0,0,255;601:0,0,204;602:0,0,153;603:0,0,102;604:0,0,51;606:255,204,255;607:255,153,255;608:204,153,204;609:255,102,255;610:204,102,204;611:153,102,153;612:255,51,255;613:204,51,204;614:153,51,153;615:102,51,102;616:255,0,255;617:204,0,204;618:153,0,153;619:102,0,102;620:51,0,51;622:255,204,204;623:255,153,153;624:204,153,153;625:255,102,102;626:204,102,102;627:153,102,102;628:255,51,51;629:204,51,51;630:153,51,51;631:102,51,51;632:255,0,0;633:204,0,0;634:153,0,0;635:102,0,0;636:51,0,0;791:255,204,153;792:204,153,102;793:153,102,51;794:153,102,0;795:204,153,51;796:255,204,102;797:255,153,0;798:255,204,51;799:204,153,0;800:255,204,0;801:255,153,51;802:204,102,0;803:102,51,0;804:153,51,0;805:204,102,51;806:255,153,102;807:255,102,0;808:255,102,51;809:204,51,0;810:255,51,0;811:153,255,51;812:102,204,0;813:51,102,0;814:51,153,0;815:102,204,51;816:153,255,102;817:102,255,0;818:102,255,51;819:51,204,0;820:51,255,0;821:204,255,153;822:153,204,102;823:102,153,51;824:102,153,0;825:153,204,51;826:204,255,102;827:153,255,0;828:204,255,51;829:153,204,0;830:204,255,0;831:153,255,204;832:102,204,153;833:51,153,102;834:0,153,102;835:51,204,153;836:102,255,204;837:0,255,102;838:51,255,204;839:0,204,153;840:0,255,204;841:51,255,153;842:0,204,102;843:0,102,51;844:0,153,51;845:51,204,102;846:102,255,153;847:0,255,153;848:51,255,102;849:0,204,51;850:0,255,51;851:153,204,255;852:102,153,204;853:51,102,153;854:0,51,153;855:51,102,204;856:102,153,255;857:0,102,255;858:51,102,255;859:0,51,204;860:0,51,255;861:51,153,255;862:0,102,204;863:0,51,102;864:0,102,153;865:51,153,204;866:102,204,255;867:0,153,255;868:51,204,255;869:0,153,204;870:0,204,255;871:204,153,255;872:153,102,204;873:102,51,153;874:102,0,153;875:153,51,204;876:204,102,255;877:153,0,255;878:204,51,255;879:153,0,204;880:204,0,255;881:153,51,255;882:102,0,204;883:51,0,102;884:51,0,153;885:102,51,204;886:153,102,255;887:102,0,255;888:102,51,255;889:51,0,204;890:51,0,255;891:255,51,153;892:204,0,102;893:102,0,51;894:153,0,51;895:204,51,102;896:255,102,153;897:255,0,102;898:255,51,102;899:204,0,51;900:255,0,51;901:255,153,204;902:204,102,153;903:153,51,102;904:153,0,102;905:204,51,153;906:255,102,204;907:255,0,153;908:204,0,153;909:255,51,204;910:255,0,153;920:204,204,204;921:153,153,153;922:102,102,102;923:51,51,51;924:53,42,134;925:51,44,137;926:50,45,140;927:49,47,143;928:48,48,146;929:46,50,148;930:45,51,151;931:44,53,154;932:43,55,157;933:42,56,160;934:40,58,162;935:39,59,165;936:38,61,168;937:37,63,171;938:35,64,174;939:34,66,176;940:33,67,179;941:32,69,182;942:31,71,185;943:29,72,187;944:28,74,190;945:27,75,193;946:26,77,196;947:24,79,199;948:23,80,201;949:22,82,204;950:21,83,207;951:19,85,210;952:18,86,213;953:17,88,215;954:16,90,218;955:15,91,221;956:15,92,221;957:15,94,220;958:15,95,220;959:15,96,220;960:15,97,220;961:15,98,220;962:16,99,219;963:16,100,219;964:16,102,219;965:16,103,219;966:16,104,218;967:16,105,218;968:17,106,218;969:17,107,218;970:17,109,217;971:17,110,217;972:17,111,217;973:17,112,217;974:17,113,216;975:18,114,216;976:18,115,216;977:18,117,216;978:18,118,215;979:18,119,215;980:18,120,215;981:18,121,215;982:19,122,215;983:19,123,214;984:19,125,214;985:19,126,214;986:19,127,214;987:19,128,213;988:19,129,213;989:19,130,213;990:18,131,212;991:18,132,212;992:17,134,211;993:17,135,211;994:16,136,211;995:16,137,210;996:15,138,210;997:15,139,210;998:15,140,209;999:14,141,209;1000:14,142,208;1001:13,143,208;1002:13,145,208;1003:12,146,207;1004:12,147,207;1005:12,148,207;1006:11,149,206;1007:11,150,206;1008:10,151,205;1009:10,152,205;1010:9,153,205;1011:9,154,204;1012:8,155,204;1013:8,157,204;1014:8,158,203;1015:7,159,203;1016:7,160,202;1017:6,161,202;1018:6,162,202;1019:5,163,201;1020:7,164,200;1021:8,164,199;1022:9,165,198;1023:10,166,197;1024:12,166,195;1025:13,167,194;1026:14,167,193;1027:15,168,192;1028:17,169,191;1029:18,169,189;1030:19,170,188;1031:20,170,187;1032:22,171,186;1033:23,172,185;1034:24,172,184;1035:25,173,182;1036:27,173,181;1037:28,174,180;1038:29,175,179;1039:30,175,178;1040:32,176,176;1041:33,176,175;1042:34,177,174;1043:35,178,173;1044:37,178,172;1045:38,179,170;1046:39,180,169;1047:40,180,168;1048:42,181,167;1049:43,181,166;1050:44,182,165;1051:45,183,163;1052:48,183,162;1053:51,183,161;1054:54,183,159;1055:57,184,158;1056:59,184,156;1057:62,184,155;1058:65,184,154;1059:68,185,152;1060:71,185,151;1061:73,185,149;1062:76,185,148;1063:79,186,146;1064:82,186,145;1065:84,186,144;1066:87,186,142;1067:90,187,141;1068:93,187,139;1069:96,187,138;1070:98,187,137;1071:101,188,135;1072:104,188,134;1073:107,188,132;1074:110,188,131;1075:112,189,130;1076:115,189,128;1077:118,189,127;1078:121,189,125;1079:124,190,124;1080:126,190,123;1081:129,190,121;1082:132,190,120;1083:135,191,118;1084:137,190,117;1085:139,190,117;1086:142,190,116;1087:144,190,115;1088:146,190,114;1089:148,190,113;1090:151,190,112;1091:153,190,111;1092:155,189,110;1093:158,189,109;1094:160,189,108;1095:162,189,107;1096:165,189,106;1097:167,189,105;1098:169,189,104;1099:171,188,104;1100:174,188,103;1101:176,188,102;1102:178,188,101;1103:181,188,100;1104:183,188,99;1105:185,188,98;1106:188,188,97;1107:190,187,96;1108:192,187,95;1109:194,187,94;1110:197,187,93;1111:199,187,92;1112:201,187,92;1113:204,187,91;1114:206,186,90;1115:208,186,89;1116:210,187,88;1117:211,187,86;1118:212,188,85;1119:214,188,84;1120:215,188,83;1121:217,189,81;1122:218,189,80;1123:220,190,79;1124:221,190,78;1125:222,191,77;1126:224,191,75;1127:225,191,74;1128:227,192,73;1129:228,192,72;1130:229,193,70;1131:231,193,69;1132:232,194,68;1133:234,194,67;1134:235,194,66;1135:236,195,64;1136:238,195,63;1137:239,196,62;1138:241,196,61;1139:242,197,59;1140:244,197,58;1141:245,197,57;1142:246,198,56;1143:248,198,55;1144:249,199,53;1145:251,199,52;1146:252,200,51;1147:253,200,50;1148:253,202,49;1149:253,203,47;1150:253,205,46;1151:253,206,45;1152:253,208,44;1153:252,209,43;1154:252,211,42;1155:252,213,41;1156:252,214,39;1157:252,216,38;1158:252,217,37;1159:252,219,36;1160:251,220,35;1161:251,222,34;1162:251,224,33;1163:251,225,31;1164:251,227,30;1165:251,228,29;1166:250,230,28;1167:250,231,27;1168:250,233,26;1169:250,235,25;1170:250,236,23;1171:250,238,22;1172:250,239,21;1173:249,241,20;1174:249,242,19;1175:249,244,18;1176:249,246,17;1177:249,247,16;1178:249,249,14\",\"fBuf\":{\"$arr\":\"Float32\",\"len\":255,\"v\":[924,925,926,927,928,929,930,931,932,933,934,935,936,937,938,939,940,941,942,943,944,945,946,947,948,949,950,951,952,953,954,955,956,957,958,959,960,961,962,963,964,965,966,967,968,969,970,971,972,973,974,975,976,977,978,979,980,981,982,983,984,985,986,987,988,989,990,991,992,993,994,995,996,997,998,999,1000,1001,1002,1003,1004,1005,1006,1007,1008,1009,1010,1011,1012,1013,1014,1015,1016,1017,1018,1019,1020,1021,1022,1023,1024,1025,1026,1027,1028,1029,1030,1031,1032,1033,1034,1035,1036,1037,1038,1039,1040,1041,1042,1043,1044,1045,1046,1047,1048,1049,1050,1051,1052,1053,1054,1055,1056,1057,1058,1059,1060,1061,1062,1063,1064,1065,1066,1067,1068,1069,1070,1071,1072,1073,1074,1075,1076,1077,1078,1079,1080,1081,1082,1083,1084,1085,1086,1087,1088,1089,1090,1091,1092,1093,1094,1095,1096,1097,1098,1099,1100,1101,1102,1103,1104,1105,1106,1107,1108,1109,1110,1111,1112,1113,1114,1115,1116,1117,1118,1119,1120,1121,1122,1123,1124,1125,1126,1127,1128,1129,1130,1131,1132,1133,1134,1135,1136,1137,1138,1139,1140,1141,1142,1143,1144,1145,1146,1147,1148,1149,1150,1151,1152,1153,1154,1155,1156,1157,1158,1159,1160,1161,1162,1163,1164,1165,1166,1167,1168,1169,1170,1171,1172,1173,1174,1175,1176,1177,1178]}}},{\"_typename\":\"TWebSnapshot\",\"fUniqueID\":0,\"fBits\":0,\"fObjectID\":\"\",\"fOption\":\"\",\"fKind\":5,\"fSnapshot\":{\"_typename\":\"TStyle\",\"fUniqueID\":0,\"fBits\":0,\"fName\":\"Modern\",\"fTitle\":\"Modern Style\",\"fLineColor\":1,\"fLineStyle\":1,\"fLineWidth\":1,\"fFillColor\":19,\"fFillStyle\":1001,\"fMarkerColor\":1,\"fMarkerStyle\":1,\"fMarkerSize\":1,\"fTextAngle\":0,\"fTextSize\":0.05,\"fTextAlign\":11,\"fTextColor\":1,\"fTextFont\":62,\"fXaxis\":{\"_typename\":\"TAttAxis\",\"fNdivisions\":510,\"fAxisColor\":1,\"fLabelColor\":1,\"fLabelFont\":42,\"fLabelOffset\":0.005,\"fLabelSize\":0.035,\"fTickLength\":0.03,\"fTitleOffset\":1,\"fTitleSize\":0.035,\"fTitleColor\":1,\"fTitleFont\":42},\"fYaxis\":{\"_typename\":\"TAttAxis\",\"fNdivisions\":510,\"fAxisColor\":1,\"fLabelColor\":1,\"fLabelFont\":42,\"fLabelOffset\":0.005,\"fLabelSize\":0.035,\"fTickLength\":0.03,\"fTitleOffset\":0,\"fTitleSize\":0.035,\"fTitleColor\":1,\"fTitleFont\":42},\"fZaxis\":{\"_typename\":\"TAttAxis\",\"fNdivisions\":510,\"fAxisColor\":1,\"fLabelColor\":1,\"fLabelFont\":42,\"fLabelOffset\":0.005,\"fLabelSize\":0.035,\"fTickLength\":0.03,\"fTitleOffset\":1,\"fTitleSize\":0.035,\"fTitleColor\":1,\"fTitleFont\":42},\"fBarWidth\":1,\"fBarOffset\":0,\"fColorModelPS\":0,\"fDrawBorder\":0,\"fOptLogx\":0,\"fOptLogy\":0,\"fOptLogz\":0,\"fOptDate\":0,\"fOptStat\":0,\"fOptTitle\":1,\"fOptFile\":0,\"fOptFit\":0,\"fShowEventStatus\":0,\"fShowEditor\":0,\"fShowToolBar\":0,\"fNumberContours\":20,\"fAttDate\":{\"_typename\":\"TAttText\",\"fTextAngle\":0,\"fTextSize\":0.025,\"fTextAlign\":11,\"fTextColor\":1,\"fTextFont\":62},\"fDateX\":0.01,\"fDateY\":0.01,\"fEndErrorSize\":2,\"fErrorX\":0.5,\"fFuncColor\":2,\"fFuncStyle\":1,\"fFuncWidth\":2,\"fGridColor\":0,\"fGridStyle\":3,\"fGridWidth\":1,\"fLegendBorderSize\":1,\"fLegendFillColor\":0,\"fLegendFillStyle\":1001,\"fLegendFont\":42,\"fLegendTextSize\":0,\"fHatchesLineWidth\":1,\"fHatchesSpacing\":1,\"fFrameFillColor\":0,\"fFrameLineColor\":1,\"fFrameFillStyle\":1001,\"fFrameLineStyle\":1,\"fFrameLineWidth\":1,\"fFrameBorderSize\":1,\"fFrameBorderMode\":0,\"fHistFillColor\":0,\"fHistLineColor\":602,\"fHistFillStyle\":1001,\"fHistLineStyle\":1,\"fHistLineWidth\":1,\"fHistMinimumZero\":false,\"fHistTopMargin\":0.05,\"fCanvasPreferGL\":false,\"fCanvasColor\":0,\"fCanvasBorderSize\":2,\"fCanvasBorderMode\":0,\"fCanvasDefH\":500,\"fCanvasDefW\":700,\"fCanvasDefX\":10,\"fCanvasDefY\":10,\"fPadColor\":0,\"fPadBorderSize\":2,\"fPadBorderMode\":0,\"fPadBottomMargin\":0.1,\"fPadTopMargin\":0.1,\"fPadLeftMargin\":0.1,\"fPadRightMargin\":0.1,\"fPadGridX\":false,\"fPadGridY\":false,\"fPadTickX\":0,\"fPadTickY\":0,\"fPaperSizeX\":20,\"fPaperSizeY\":26,\"fScreenFactor\":1,\"fStatColor\":0,\"fStatTextColor\":1,\"fStatBorderSize\":1,\"fStatFont\":42,\"fStatFontSize\":0,\"fStatStyle\":1001,\"fStatFormat\":\"6.4g\",\"fStatX\":0.98,\"fStatY\":0.935,\"fStatW\":0.2,\"fStatH\":0.16,\"fStripDecimals\":true,\"fTitleAlign\":23,\"fTitleColor\":0,\"fTitleTextColor\":1,\"fTitleBorderSize\":0,\"fTitleFont\":42,\"fTitleFontSize\":0.05,\"fTitleStyle\":0,\"fTitleX\":0.5,\"fTitleY\":0.995,\"fTitleW\":0,\"fTitleH\":0,\"fLegoInnerR\":0.5,\"fLineStyles\":[\"\",\"  \",\" 12 12\",\" 4 8\",\" 12 16 4 16\",\" 20 12 4 12\",\" 20 12 4 12 4 12 4 12\",\" 20 20\",\" 20 12 4 12 4 12\",\" 80 20\",\" 80 40 4 40\",\"  \",\"  \",\"  \",\"  \",\"  \",\"  \",\"  \",\"  \",\"  \",\"  \",\"  \",\"  \",\"  \",\"  \",\"  \",\"  \",\"  \",\"  \",\"  \"],\"fHeaderPS\":\"\",\"fTitlePS\":\"\",\"fFitFormat\":\"5.4g\",\"fPaintTextFormat\":\"g\",\"fLineScalePS\":3,\"fJoinLinePS\":0,\"fCapLinePS\":0,\"fTimeOffset\":788918400,\"fImageScaling\":1,\"fCandleWhiskerRange\":1,\"fCandleBoxRange\":0.5,\"fCandleScaled\":false,\"fViolinScaled\":true,\"fXAxisExpXOffset\":0,\"fXAxisExpYOffset\":0,\"fYAxisExpXOffset\":0,\"fYAxisExpYOffset\":0,\"fAxisMaxDigits\":5,\"fOrthoCamera\":false}},{\"_typename\":\"TWebSnapshot\",\"fUniqueID\":0,\"fBits\":0,\"fObjectID\":\"\",\"fOption\":\"\",\"fKind\":1,\"fSnapshot\":{\"_typename\":\"TFrame\",\"fUniqueID\":0,\"fBits\":8,\"fLineColor\":1,\"fLineStyle\":1,\"fLineWidth\":1,\"fFillColor\":0,\"fFillStyle\":1001,\"fX1\":0,\"fY1\":0,\"fX2\":3,\"fY2\":50,\"fBorderSize\":1,\"fBorderMode\":0}},{\"_typename\":\"TWebSnapshot\",\"fUniqueID\":0,\"fBits\":0,\"fObjectID\":\"\",\"fOption\":\"__ignore_drawing__\",\"fKind\":1,\"fSnapshot\":{\"_typename\":\"TObjArray\",\"name\":\"TObjArray\",\"arr\":[{\"_typename\":\"TH1F\",\"fUniqueID\":0,\"fBits\":8,\"fName\":\"ch3L2018_LTMET_DY\",\"fTitle\":\"DY_LTMET\",\"fLineColor\":623,\"fLineStyle\":1,\"fLineWidth\":1,\"fFillColor\":623,\"fFillStyle\":1001,\"fMarkerColor\":1,\"fMarkerStyle\":1,\"fMarkerSize\":1,\"fNcells\":5,\"fXaxis\":{\"_typename\":\"TAxis\",\"fUniqueID\":0,\"fBits\":0,\"fName\":\"xaxis\",\"fTitle\":\"\",\"fNdivisions\":510,\"fAxisColor\":1,\"fLabelColor\":1,\"fLabelFont\":42,\"fLabelOffset\":0.005,\"fLabelSize\":0.035,\"fTickLength\":0.03,\"fTitleOffset\":1,\"fTitleSize\":0.035,\"fTitleColor\":1,\"fTitleFont\":42,\"fNbins\":3,\"fXmin\":0,\"fXmax\":3,\"fXbins\":[],\"fFirst\":0,\"fLast\":0,\"fBits2\":3,\"fTimeDisplay\":false,\"fTimeFormat\":\"\",\"fLabels\":{\"_typename\":\"THashList\",\"name\":\"THashList\",\"arr\":[{\"_typename\":\"TObjString\",\"fUniqueID\":1,\"fBits\":0,\"fString\":\"bin1\"},{\"_typename\":\"TObjString\",\"fUniqueID\":2,\"fBits\":0,\"fString\":\"bin2\"},{\"_typename\":\"TObjString\",\"fUniqueID\":3,\"fBits\":0,\"fString\":\"bin3\"}],\"opt\":[\"\",\"\",\"\"]},\"fModLabs\":null},\"fYaxis\":{\"_typename\":\"TAxis\",\"fUniqueID\":0,\"fBits\":0,\"fName\":\"yaxis\",\"fTitle\":\"\",\"fNdivisions\":510,\"fAxisColor\":1,\"fLabelColor\":1,\"fLabelFont\":42,\"fLabelOffset\":0.005,\"fLabelSize\":0.035,\"fTickLength\":0.03,\"fTitleOffset\":0,\"fTitleSize\":0.035,\"fTitleColor\":1,\"fTitleFont\":42,\"fNbins\":1,\"fXmin\":0,\"fXmax\":1,\"fXbins\":[],\"fFirst\":0,\"fLast\":0,\"fBits2\":0,\"fTimeDisplay\":false,\"fTimeFormat\":\"\",\"fLabels\":null,\"fModLabs\":null},\"fZaxis\":{\"_typename\":\"TAxis\",\"fUniqueID\":0,\"fBits\":0,\"fName\":\"zaxis\",\"fTitle\":\"\",\"fNdivisions\":510,\"fAxisColor\":1,\"fLabelColor\":1,\"fLabelFont\":42,\"fLabelOffset\":0.005,\"fLabelSize\":0.035,\"fTickLength\":0.03,\"fTitleOffset\":1,\"fTitleSize\":0.035,\"fTitleColor\":1,\"fTitleFont\":42,\"fNbins\":1,\"fXmin\":0,\"fXmax\":1,\"fXbins\":[],\"fFirst\":0,\"fLast\":0,\"fBits2\":0,\"fTimeDisplay\":false,\"fTimeFormat\":\"\",\"fLabels\":null,\"fModLabs\":null},\"fBarOffset\":0,\"fBarWidth\":1000,\"fEntries\":3,\"fTsumw\":0,\"fTsumw2\":0,\"fTsumwx\":0,\"fTsumwx2\":0,\"fMaximum\":-1111,\"fMinimum\":-1111,\"fNormFactor\":0,\"fContour\":[],\"fSumw2\":[],\"fOption\":\"\",\"fFunctions\":{\"_typename\":\"TList\",\"name\":\"TList\",\"arr\":[],\"opt\":[]},\"fBufferSize\":0,\"fBuffer\":[],\"fBinStatErrOpt\":0,\"fStatOverflows\":2,\"fArray\":[0,2,7,9,0]},{\"_typename\":\"TH1F\",\"fUniqueID\":0,\"fBits\":8,\"fName\":\"ch3L2018_LTMET_TT\",\"fTitle\":\"TT_LTMET\",\"fLineColor\":593,\"fLineStyle\":1,\"fLineWidth\":1,\"fFillColor\":593,\"fFillStyle\":1001,\"fMarkerColor\":1,\"fMarkerStyle\":1,\"fMarkerSize\":1,\"fNcells\":5,\"fXaxis\":{\"_typename\":\"TAxis\",\"fUniqueID\":0,\"fBits\":0,\"fName\":\"xaxis\",\"fTitle\":\"\",\"fNdivisions\":510,\"fAxisColor\":1,\"fLabelColor\":1,\"fLabelFont\":42,\"fLabelOffset\":0.005,\"fLabelSize\":0.035,\"fTickLength\":0.03,\"fTitleOffset\":1,\"fTitleSize\":0.035,\"fTitleColor\":1,\"fTitleFont\":42,\"fNbins\":3,\"fXmin\":0,\"fXmax\":3,\"fXbins\":[],\"fFirst\":0,\"fLast\":0,\"fBits2\":3,\"fTimeDisplay\":false,\"fTimeFormat\":\"\",\"fLabels\":{\"_typename\":\"THashList\",\"name\":\"THashList\",\"arr\":[{\"_typename\":\"TObjString\",\"fUniqueID\":1,\"fBits\":0,\"fString\":\"bin1\"},{\"_typename\":\"TObjString\",\"fUniqueID\":2,\"fBits\":0,\"fString\":\"bin2\"},{\"_typename\":\"TObjString\",\"fUniqueID\":3,\"fBits\":0,\"fString\":\"bin3\"}],\"opt\":[\"\",\"\",\"\"]},\"fModLabs\":null},\"fYaxis\":{\"_typename\":\"TAxis\",\"fUniqueID\":0,\"fBits\":0,\"fName\":\"yaxis\",\"fTitle\":\"\",\"fNdivisions\":510,\"fAxisColor\":1,\"fLabelColor\":1,\"fLabelFont\":42,\"fLabelOffset\":0.005,\"fLabelSize\":0.035,\"fTickLength\":0.03,\"fTitleOffset\":0,\"fTitleSize\":0.035,\"fTitleColor\":1,\"fTitleFont\":42,\"fNbins\":1,\"fXmin\":0,\"fXmax\":1,\"fXbins\":[],\"fFirst\":0,\"fLast\":0,\"fBits2\":0,\"fTimeDisplay\":false,\"fTimeFormat\":\"\",\"fLabels\":null,\"fModLabs\":null},\"fZaxis\":{\"_typename\":\"TAxis\",\"fUniqueID\":0,\"fBits\":0,\"fName\":\"zaxis\",\"fTitle\":\"\",\"fNdivisions\":510,\"fAxisColor\":1,\"fLabelColor\":1,\"fLabelFont\":42,\"fLabelOffset\":0.005,\"fLabelSize\":0.035,\"fTickLength\":0.03,\"fTitleOffset\":1,\"fTitleSize\":0.035,\"fTitleColor\":1,\"fTitleFont\":42,\"fNbins\":1,\"fXmin\":0,\"fXmax\":1,\"fXbins\":[],\"fFirst\":0,\"fLast\":0,\"fBits2\":0,\"fTimeDisplay\":false,\"fTimeFormat\":\"\",\"fLabels\":null,\"fModLabs\":null},\"fBarOffset\":0,\"fBarWidth\":1000,\"fEntries\":6,\"fTsumw\":27,\"fTsumw2\":27,\"fTsumwx\":0,\"fTsumwx2\":0,\"fMaximum\":-1111,\"fMinimum\":-1111,\"fNormFactor\":0,\"fContour\":[],\"fSumw2\":[],\"fOption\":\"\",\"fFunctions\":{\"_typename\":\"TList\",\"name\":\"TList\",\"arr\":[],\"opt\":[]},\"fBufferSize\":0,\"fBuffer\":[],\"fBinStatErrOpt\":0,\"fStatOverflows\":2,\"fArray\":[0,6,8,13,0]},{\"_typename\":\"TH1F\",\"fUniqueID\":0,\"fBits\":8,\"fName\":\"ch3L2018_LTMET_WZ\",\"fTitle\":\"WZ_LTMET\",\"fLineColor\":796,\"fLineStyle\":1,\"fLineWidth\":1,\"fFillColor\":796,\"fFillStyle\":1001,\"fMarkerColor\":1,\"fMarkerStyle\":1,\"fMarkerSize\":1,\"fNcells\":5,\"fXaxis\":{\"_typename\":\"TAxis\",\"fUniqueID\":0,\"fBits\":0,\"fName\":\"xaxis\",\"fTitle\":\"\",\"fNdivisions\":510,\"fAxisColor\":1,\"fLabelColor\":1,\"fLabelFont\":42,\"fLabelOffset\":0.005,\"fLabelSize\":0.035,\"fTickLength\":0.03,\"fTitleOffset\":1,\"fTitleSize\":0.035,\"fTitleColor\":1,\"fTitleFont\":42,\"fNbins\":3,\"fXmin\":0,\"fXmax\":3,\"fXbins\":[],\"fFirst\":0,\"fLast\":0,\"fBits2\":3,\"fTimeDisplay\":false,\"fTimeFormat\":\"\",\"fLabels\":{\"_typename\":\"THashList\",\"name\":\"THashList\",\"arr\":[{\"_typename\":\"TObjString\",\"fUniqueID\":1,\"fBits\":0,\"fString\":\"bin1\"},{\"_typename\":\"TObjString\",\"fUniqueID\":2,\"fBits\":0,\"fString\":\"bin2\"},{\"_typename\":\"TObjString\",\"fUniqueID\":3,\"fBits\":0,\"fString\":\"bin3\"}],\"opt\":[\"\",\"\",\"\"]},\"fModLabs\":null},\"fYaxis\":{\"_typename\":\"TAxis\",\"fUniqueID\":0,\"fBits\":0,\"fName\":\"yaxis\",\"fTitle\":\"\",\"fNdivisions\":510,\"fAxisColor\":1,\"fLabelColor\":1,\"fLabelFont\":42,\"fLabelOffset\":0.005,\"fLabelSize\":0.035,\"fTickLength\":0.03,\"fTitleOffset\":0,\"fTitleSize\":0.035,\"fTitleColor\":1,\"fTitleFont\":42,\"fNbins\":1,\"fXmin\":0,\"fXmax\":1,\"fXbins\":[],\"fFirst\":0,\"fLast\":0,\"fBits2\":0,\"fTimeDisplay\":false,\"fTimeFormat\":\"\",\"fLabels\":null,\"fModLabs\":null},\"fZaxis\":{\"_typename\":\"TAxis\",\"fUniqueID\":0,\"fBits\":0,\"fName\":\"zaxis\",\"fTitle\":\"\",\"fNdivisions\":510,\"fAxisColor\":1,\"fLabelColor\":1,\"fLabelFont\":42,\"fLabelOffset\":0.005,\"fLabelSize\":0.035,\"fTickLength\":0.03,\"fTitleOffset\":1,\"fTitleSize\":0.035,\"fTitleColor\":1,\"fTitleFont\":42,\"fNbins\":1,\"fXmin\":0,\"fXmax\":1,\"fXbins\":[],\"fFirst\":0,\"fLast\":0,\"fBits2\":0,\"fTimeDisplay\":false,\"fTimeFormat\":\"\",\"fLabels\":null,\"fModLabs\":null},\"fBarOffset\":0,\"fBarWidth\":1000,\"fEntries\":9,\"fTsumw\":51,\"fTsumw2\":51,\"fTsumwx\":0,\"fTsumwx2\":0,\"fMaximum\":-1111,\"fMinimum\":-1111,\"fNormFactor\":0,\"fContour\":[],\"fSumw2\":[],\"fOption\":\"\",\"fFunctions\":{\"_typename\":\"TList\",\"name\":\"TList\",\"arr\":[],\"opt\":[]},\"fBufferSize\":0,\"fBuffer\":[],\"fBinStatErrOpt\":0,\"fStatOverflows\":2,\"fArray\":[0,13,12,26,0]}]}},{\"_typename\":\"TWebSnapshot\",\"fUniqueID\":0,\"fBits\":0,\"fObjectID\":\"\",\"fOption\":\"hist\",\"fKind\":1,\"fSnapshot\":{\"_typename\":\"THStack\",\"fUniqueID\":0,\"fBits\":8,\"fName\":\"\",\"fTitle\":\"\",\"fHists\":{\"_typename\":\"TList\",\"name\":\"TList\",\"arr\":[{\"_typename\":\"TH1F\",\"fUniqueID\":0,\"fBits\":8,\"fName\":\"ch3L2018_LTMET_DY\",\"fTitle\":\"DY_LTMET\",\"fLineColor\":623,\"fLineStyle\":1,\"fLineWidth\":1,\"fFillColor\":623,\"fFillStyle\":1001,\"fMarkerColor\":1,\"fMarkerStyle\":1,\"fMarkerSize\":1,\"fNcells\":5,\"fXaxis\":{\"_typename\":\"TAxis\",\"fUniqueID\":0,\"fBits\":0,\"fName\":\"xaxis\",\"fTitle\":\"\",\"fNdivisions\":510,\"fAxisColor\":1,\"fLabelColor\":1,\"fLabelFont\":42,\"fLabelOffset\":0.005,\"fLabelSize\":0.035,\"fTickLength\":0.03,\"fTitleOffset\":1,\"fTitleSize\":0.035,\"fTitleColor\":1,\"fTitleFont\":42,\"fNbins\":3,\"fXmin\":0,\"fXmax\":3,\"fXbins\":[],\"fFirst\":0,\"fLast\":0,\"fBits2\":3,\"fTimeDisplay\":false,\"fTimeFormat\":\"\",\"fLabels\":{\"_typename\":\"THashList\",\"name\":\"THashList\",\"arr\":[{\"_typename\":\"TObjString\",\"fUniqueID\":1,\"fBits\":0,\"fString\":\"bin1\"},{\"_typename\":\"TObjString\",\"fUniqueID\":2,\"fBits\":0,\"fString\":\"bin2\"},{\"_typename\":\"TObjString\",\"fUniqueID\":3,\"fBits\":0,\"fString\":\"bin3\"}],\"opt\":[\"\",\"\",\"\"]},\"fModLabs\":null},\"fYaxis\":{\"_typename\":\"TAxis\",\"fUniqueID\":0,\"fBits\":0,\"fName\":\"yaxis\",\"fTitle\":\"\",\"fNdivisions\":510,\"fAxisColor\":1,\"fLabelColor\":1,\"fLabelFont\":42,\"fLabelOffset\":0.005,\"fLabelSize\":0.035,\"fTickLength\":0.03,\"fTitleOffset\":0,\"fTitleSize\":0.035,\"fTitleColor\":1,\"fTitleFont\":42,\"fNbins\":1,\"fXmin\":0,\"fXmax\":1,\"fXbins\":[],\"fFirst\":0,\"fLast\":0,\"fBits2\":0,\"fTimeDisplay\":false,\"fTimeFormat\":\"\",\"fLabels\":null,\"fModLabs\":null},\"fZaxis\":{\"_typename\":\"TAxis\",\"fUniqueID\":0,\"fBits\":0,\"fName\":\"zaxis\",\"fTitle\":\"\",\"fNdivisions\":510,\"fAxisColor\":1,\"fLabelColor\":1,\"fLabelFont\":42,\"fLabelOffset\":0.005,\"fLabelSize\":0.035,\"fTickLength\":0.03,\"fTitleOffset\":1,\"fTitleSize\":0.035,\"fTitleColor\":1,\"fTitleFont\":42,\"fNbins\":1,\"fXmin\":0,\"fXmax\":1,\"fXbins\":[],\"fFirst\":0,\"fLast\":0,\"fBits2\":0,\"fTimeDisplay\":false,\"fTimeFormat\":\"\",\"fLabels\":null,\"fModLabs\":null},\"fBarOffset\":0,\"fBarWidth\":1000,\"fEntries\":3,\"fTsumw\":0,\"fTsumw2\":0,\"fTsumwx\":0,\"fTsumwx2\":0,\"fMaximum\":-1111,\"fMinimum\":-1111,\"fNormFactor\":0,\"fContour\":[],\"fSumw2\":[],\"fOption\":\"\",\"fFunctions\":{\"_typename\":\"TList\",\"name\":\"TList\",\"arr\":[],\"opt\":[]},\"fBufferSize\":0,\"fBuffer\":[],\"fBinStatErrOpt\":0,\"fStatOverflows\":2,\"fArray\":[0,2,7,9,0]},{\"_typename\":\"TH1F\",\"fUniqueID\":0,\"fBits\":8,\"fName\":\"ch3L2018_LTMET_TT\",\"fTitle\":\"TT_LTMET\",\"fLineColor\":593,\"fLineStyle\":1,\"fLineWidth\":1,\"fFillColor\":593,\"fFillStyle\":1001,\"fMarkerColor\":1,\"fMarkerStyle\":1,\"fMarkerSize\":1,\"fNcells\":5,\"fXaxis\":{\"_typename\":\"TAxis\",\"fUniqueID\":0,\"fBits\":0,\"fName\":\"xaxis\",\"fTitle\":\"\",\"fNdivisions\":510,\"fAxisColor\":1,\"fLabelColor\":1,\"fLabelFont\":42,\"fLabelOffset\":0.005,\"fLabelSize\":0.035,\"fTickLength\":0.03,\"fTitleOffset\":1,\"fTitleSize\":0.035,\"fTitleColor\":1,\"fTitleFont\":42,\"fNbins\":3,\"fXmin\":0,\"fXmax\":3,\"fXbins\":[],\"fFirst\":0,\"fLast\":0,\"fBits2\":3,\"fTimeDisplay\":false,\"fTimeFormat\":\"\",\"fLabels\":{\"_typename\":\"THashList\",\"name\":\"THashList\",\"arr\":[{\"_typename\":\"TObjString\",\"fUniqueID\":1,\"fBits\":0,\"fString\":\"bin1\"},{\"_typename\":\"TObjString\",\"fUniqueID\":2,\"fBits\":0,\"fString\":\"bin2\"},{\"_typename\":\"TObjString\",\"fUniqueID\":3,\"fBits\":0,\"fString\":\"bin3\"}],\"opt\":[\"\",\"\",\"\"]},\"fModLabs\":null},\"fYaxis\":{\"_typename\":\"TAxis\",\"fUniqueID\":0,\"fBits\":0,\"fName\":\"yaxis\",\"fTitle\":\"\",\"fNdivisions\":510,\"fAxisColor\":1,\"fLabelColor\":1,\"fLabelFont\":42,\"fLabelOffset\":0.005,\"fLabelSize\":0.035,\"fTickLength\":0.03,\"fTitleOffset\":0,\"fTitleSize\":0.035,\"fTitleColor\":1,\"fTitleFont\":42,\"fNbins\":1,\"fXmin\":0,\"fXmax\":1,\"fXbins\":[],\"fFirst\":0,\"fLast\":0,\"fBits2\":0,\"fTimeDisplay\":false,\"fTimeFormat\":\"\",\"fLabels\":null,\"fModLabs\":null},\"fZaxis\":{\"_typename\":\"TAxis\",\"fUniqueID\":0,\"fBits\":0,\"fName\":\"zaxis\",\"fTitle\":\"\",\"fNdivisions\":510,\"fAxisColor\":1,\"fLabelColor\":1,\"fLabelFont\":42,\"fLabelOffset\":0.005,\"fLabelSize\":0.035,\"fTickLength\":0.03,\"fTitleOffset\":1,\"fTitleSize\":0.035,\"fTitleColor\":1,\"fTitleFont\":42,\"fNbins\":1,\"fXmin\":0,\"fXmax\":1,\"fXbins\":[],\"fFirst\":0,\"fLast\":0,\"fBits2\":0,\"fTimeDisplay\":false,\"fTimeFormat\":\"\",\"fLabels\":null,\"fModLabs\":null},\"fBarOffset\":0,\"fBarWidth\":1000,\"fEntries\":3,\"fTsumw\":0,\"fTsumw2\":0,\"fTsumwx\":0,\"fTsumwx2\":0,\"fMaximum\":-1111,\"fMinimum\":-1111,\"fNormFactor\":0,\"fContour\":[],\"fSumw2\":[],\"fOption\":\"\",\"fFunctions\":{\"_typename\":\"TList\",\"name\":\"TList\",\"arr\":[],\"opt\":[]},\"fBufferSize\":0,\"fBuffer\":[],\"fBinStatErrOpt\":0,\"fStatOverflows\":2,\"fArray\":[0,4,1,4,0]},{\"_typename\":\"TH1F\",\"fUniqueID\":0,\"fBits\":8,\"fName\":\"ch3L2018_LTMET_WZ\",\"fTitle\":\"WZ_LTMET\",\"fLineColor\":796,\"fLineStyle\":1,\"fLineWidth\":1,\"fFillColor\":796,\"fFillStyle\":1001,\"fMarkerColor\":1,\"fMarkerStyle\":1,\"fMarkerSize\":1,\"fNcells\":5,\"fXaxis\":{\"_typename\":\"TAxis\",\"fUniqueID\":0,\"fBits\":0,\"fName\":\"xaxis\",\"fTitle\":\"\",\"fNdivisions\":510,\"fAxisColor\":1,\"fLabelColor\":1,\"fLabelFont\":42,\"fLabelOffset\":0.005,\"fLabelSize\":0.035,\"fTickLength\":0.03,\"fTitleOffset\":1,\"fTitleSize\":0.035,\"fTitleColor\":1,\"fTitleFont\":42,\"fNbins\":3,\"fXmin\":0,\"fXmax\":3,\"fXbins\":[],\"fFirst\":0,\"fLast\":0,\"fBits2\":3,\"fTimeDisplay\":false,\"fTimeFormat\":\"\",\"fLabels\":{\"_typename\":\"THashList\",\"name\":\"THashList\",\"arr\":[{\"_typename\":\"TObjString\",\"fUniqueID\":1,\"fBits\":0,\"fString\":\"bin1\"},{\"_typename\":\"TObjString\",\"fUniqueID\":2,\"fBits\":0,\"fString\":\"bin2\"},{\"_typename\":\"TObjString\",\"fUniqueID\":3,\"fBits\":0,\"fString\":\"bin3\"}],\"opt\":[\"\",\"\",\"\"]},\"fModLabs\":null},\"fYaxis\":{\"_typename\":\"TAxis\",\"fUniqueID\":0,\"fBits\":0,\"fName\":\"yaxis\",\"fTitle\":\"\",\"fNdivisions\":510,\"fAxisColor\":1,\"fLabelColor\":1,\"fLabelFont\":42,\"fLabelOffset\":0.005,\"fLabelSize\":0.035,\"fTickLength\":0.03,\"fTitleOffset\":0,\"fTitleSize\":0.035,\"fTitleColor\":1,\"fTitleFont\":42,\"fNbins\":1,\"fXmin\":0,\"fXmax\":1,\"fXbins\":[],\"fFirst\":0,\"fLast\":0,\"fBits2\":0,\"fTimeDisplay\":false,\"fTimeFormat\":\"\",\"fLabels\":null,\"fModLabs\":null},\"fZaxis\":{\"_typename\":\"TAxis\",\"fUniqueID\":0,\"fBits\":0,\"fName\":\"zaxis\",\"fTitle\":\"\",\"fNdivisions\":510,\"fAxisColor\":1,\"fLabelColor\":1,\"fLabelFont\":42,\"fLabelOffset\":0.005,\"fLabelSize\":0.035,\"fTickLength\":0.03,\"fTitleOffset\":1,\"fTitleSize\":0.035,\"fTitleColor\":1,\"fTitleFont\":42,\"fNbins\":1,\"fXmin\":0,\"fXmax\":1,\"fXbins\":[],\"fFirst\":0,\"fLast\":0,\"fBits2\":0,\"fTimeDisplay\":false,\"fTimeFormat\":\"\",\"fLabels\":null,\"fModLabs\":null},\"fBarOffset\":0,\"fBarWidth\":1000,\"fEntries\":3,\"fTsumw\":0,\"fTsumw2\":0,\"fTsumwx\":0,\"fTsumwx2\":0,\"fMaximum\":-1111,\"fMinimum\":-1111,\"fNormFactor\":0,\"fContour\":[],\"fSumw2\":[],\"fOption\":\"\",\"fFunctions\":{\"_typename\":\"TList\",\"name\":\"TList\",\"arr\":[],\"opt\":[]},\"fBufferSize\":0,\"fBuffer\":[],\"fBinStatErrOpt\":0,\"fStatOverflows\":2,\"fArray\":[0,7,4,13,0]}],\"opt\":[\"\",\"\",\"\"]},\"fHistogram\":{\"_typename\":\"TH1F\",\"fUniqueID\":0,\"fBits\":512,\"fName\":\"\",\"fTitle\":\"\",\"fLineColor\":602,\"fLineStyle\":1,\"fLineWidth\":0,\"fFillColor\":0,\"fFillStyle\":1001,\"fMarkerColor\":1,\"fMarkerStyle\":1,\"fMarkerSize\":1,\"fNcells\":5,\"fXaxis\":{\"_typename\":\"TAxis\",\"fUniqueID\":0,\"fBits\":0,\"fName\":\"xaxis\",\"fTitle\":\"Bins\",\"fNdivisions\":513,\"fAxisColor\":1,\"fLabelColor\":1,\"fLabelFont\":43,\"fLabelOffset\":0.005,\"fLabelSize\":0.035,\"fTickLength\":0.03,\"fTitleOffset\":0.8,\"fTitleSize\":20,\"fTitleColor\":1,\"fTitleFont\":43,\"fNbins\":3,\"fXmin\":0,\"fXmax\":3,\"fXbins\":[],\"fFirst\":0,\"fLast\":0,\"fBits2\":3,\"fTimeDisplay\":false,\"fTimeFormat\":\"\",\"fLabels\":{\"_typename\":\"THashList\",\"name\":\"THashList\",\"arr\":[{\"_typename\":\"TObjString\",\"fUniqueID\":1,\"fBits\":0,\"fString\":\"bin1\"},{\"_typename\":\"TObjString\",\"fUniqueID\":2,\"fBits\":0,\"fString\":\"bin2\"},{\"_typename\":\"TObjString\",\"fUniqueID\":3,\"fBits\":0,\"fString\":\"bin3\"}],\"opt\":[\"\",\"\",\"\"]},\"fModLabs\":null},\"fYaxis\":{\"_typename\":\"TAxis\",\"fUniqueID\":0,\"fBits\":0,\"fName\":\"yaxis\",\"fTitle\":\"Events\",\"fNdivisions\":513,\"fAxisColor\":1,\"fLabelColor\":1,\"fLabelFont\":43,\"fLabelOffset\":0.005,\"fLabelSize\":16,\"fTickLength\":0.03,\"fTitleOffset\":1.2,\"fTitleSize\":20,\"fTitleColor\":1,\"fTitleFont\":43,\"fNbins\":1,\"fXmin\":0,\"fXmax\":1,\"fXbins\":[],\"fFirst\":0,\"fLast\":0,\"fBits2\":0,\"fTimeDisplay\":false,\"fTimeFormat\":\"\",\"fLabels\":null,\"fModLabs\":null},\"fZaxis\":{\"_typename\":\"TAxis\",\"fUniqueID\":0,\"fBits\":0,\"fName\":\"zaxis\",\"fTitle\":\"\",\"fNdivisions\":510,\"fAxisColor\":1,\"fLabelColor\":1,\"fLabelFont\":42,\"fLabelOffset\":0.005,\"fLabelSize\":0.035,\"fTickLength\":0.03,\"fTitleOffset\":1,\"fTitleSize\":0.035,\"fTitleColor\":1,\"fTitleFont\":42,\"fNbins\":1,\"fXmin\":0,\"fXmax\":1,\"fXbins\":[],\"fFirst\":0,\"fLast\":0,\"fBits2\":0,\"fTimeDisplay\":false,\"fTimeFormat\":\"\",\"fLabels\":null,\"fModLabs\":null},\"fBarOffset\":0,\"fBarWidth\":1000,\"fEntries\":0,\"fTsumw\":0,\"fTsumw2\":0,\"fTsumwx\":0,\"fTsumwx2\":0,\"fMaximum\":50,\"fMinimum\":0,\"fNormFactor\":0,\"fContour\":[],\"fSumw2\":[],\"fOption\":\"\",\"fFunctions\":{\"_typename\":\"TList\",\"name\":\"TList\",\"arr\":[],\"opt\":[]},\"fBufferSize\":0,\"fBuffer\":[],\"fBinStatErrOpt\":0,\"fStatOverflows\":2,\"fArray\":[0,0,0,0,0]},\"fMaximum\":50,\"fMinimum\":0}},{\"_typename\":\"TWebSnapshot\",\"fUniqueID\":0,\"fBits\":0,\"fObjectID\":\"\",\"fOption\":\"HISTE SAME\",\"fKind\":1,\"fSnapshot\":{\"_typename\":\"TH1F\",\"fUniqueID\":0,\"fBits\":8,\"fName\":\"ch3L2018_LTMET_VLLM400\",\"fTitle\":\"VLLM400_LTMET\",\"fLineColor\":416,\"fLineStyle\":1,\"fLineWidth\":1,\"fFillColor\":0,\"fFillStyle\":1001,\"fMarkerColor\":1,\"fMarkerStyle\":1,\"fMarkerSize\":1,\"fNcells\":5,\"fXaxis\":{\"_typename\":\"TAxis\",\"fUniqueID\":0,\"fBits\":0,\"fName\":\"xaxis\",\"fTitle\":\"\",\"fNdivisions\":510,\"fAxisColor\":1,\"fLabelColor\":1,\"fLabelFont\":42,\"fLabelOffset\":0.005,\"fLabelSize\":0.035,\"fTickLength\":0.03,\"fTitleOffset\":1,\"fTitleSize\":0.035,\"fTitleColor\":1,\"fTitleFont\":42,\"fNbins\":3,\"fXmin\":0,\"fXmax\":3,\"fXbins\":[],\"fFirst\":0,\"fLast\":0,\"fBits2\":3,\"fTimeDisplay\":false,\"fTimeFormat\":\"\",\"fLabels\":{\"_typename\":\"THashList\",\"name\":\"THashList\",\"arr\":[{\"_typename\":\"TObjString\",\"fUniqueID\":1,\"fBits\":0,\"fString\":\"bin1\"},{\"_typename\":\"TObjString\",\"fUniqueID\":2,\"fBits\":0,\"fString\":\"bin2\"},{\"_typename\":\"TObjString\",\"fUniqueID\":3,\"fBits\":0,\"fString\":\"bin3\"}],\"opt\":[\"\",\"\",\"\"]},\"fModLabs\":null},\"fYaxis\":{\"_typename\":\"TAxis\",\"fUniqueID\":0,\"fBits\":0,\"fName\":\"yaxis\",\"fTitle\":\"\",\"fNdivisions\":510,\"fAxisColor\":1,\"fLabelColor\":1,\"fLabelFont\":42,\"fLabelOffset\":0.005,\"fLabelSize\":0.035,\"fTickLength\":0.03,\"fTitleOffset\":0,\"fTitleSize\":0.035,\"fTitleColor\":1,\"fTitleFont\":42,\"fNbins\":1,\"fXmin\":0,\"fXmax\":1,\"fXbins\":[],\"fFirst\":0,\"fLast\":0,\"fBits2\":0,\"fTimeDisplay\":false,\"fTimeFormat\":\"\",\"fLabels\":null,\"fModLabs\":null},\"fZaxis\":{\"_typename\":\"TAxis\",\"fUniqueID\":0,\"fBits\":0,\"fName\":\"zaxis\",\"fTitle\":\"\",\"fNdivisions\":510,\"fAxisColor\":1,\"fLabelColor\":1,\"fLabelFont\":42,\"fLabelOffset\":0.005,\"fLabelSize\":0.035,\"fTickLength\":0.03,\"fTitleOffset\":1,\"fTitleSize\":0.035,\"fTitleColor\":1,\"fTitleFont\":42,\"fNbins\":1,\"fXmin\":0,\"fXmax\":1,\"fXbins\":[],\"fFirst\":0,\"fLast\":0,\"fBits2\":0,\"fTimeDisplay\":false,\"fTimeFormat\":\"\",\"fLabels\":null,\"fModLabs\":null},\"fBarOffset\":0,\"fBarWidth\":1000,\"fEntries\":3,\"fTsumw\":0,\"fTsumw2\":0,\"fTsumwx\":0,\"fTsumwx2\":0,\"fMaximum\":-1111,\"fMinimum\":-1111,\"fNormFactor\":0,\"fContour\":[],\"fSumw2\":[],\"fOption\":\"\",\"fFunctions\":{\"_typename\":\"TList\",\"name\":\"TList\",\"arr\":[],\"opt\":[]},\"fBufferSize\":0,\"fBuffer\":[],\"fBinStatErrOpt\":0,\"fStatOverflows\":2,\"fArray\":[0,3,1,7,0]}},{\"_typename\":\"TWebSnapshot\",\"fUniqueID\":0,\"fBits\":0,\"fObjectID\":\"\",\"fOption\":\"EP SAME\",\"fKind\":1,\"fSnapshot\":{\"_typename\":\"TH1F\",\"fUniqueID\":0,\"fBits\":8,\"fName\":\"ch3L2018_LTMET_data_obs\",\"fTitle\":\"data_obs_LTMET\",\"fLineColor\":1,\"fLineStyle\":1,\"fLineWidth\":1,\"fFillColor\":0,\"fFillStyle\":1001,\"fMarkerColor\":1,\"fMarkerStyle\":8,\"fMarkerSize\":1,\"fNcells\":5,\"fXaxis\":{\"_typename\":\"TAxis\",\"fUniqueID\":0,\"fBits\":0,\"fName\":\"xaxis\",\"fTitle\":\"\",\"fNdivisions\":510,\"fAxisColor\":1,\"fLabelColor\":1,\"fLabelFont\":42,\"fLabelOffset\":0.005,\"fLabelSize\":0.035,\"fTickLength\":0.03,\"fTitleOffset\":1,\"fTitleSize\":0.035,\"fTitleColor\":1,\"fTitleFont\":42,\"fNbins\":3,\"fXmin\":0,\"fXmax\":3,\"fXbins\":[],\"fFirst\":0,\"fLast\":0,\"fBits2\":3,\"fTimeDisplay\":false,\"fTimeFormat\":\"\",\"fLabels\":{\"_typename\":\"THashList\",\"name\":\"THashList\",\"arr\":[{\"_typename\":\"TObjString\",\"fUniqueID\":1,\"fBits\":0,\"fString\":\"bin1\"},{\"_typename\":\"TObjString\",\"fUniqueID\":2,\"fBits\":0,\"fString\":\"bin2\"},{\"_typename\":\"TObjString\",\"fUniqueID\":3,\"fBits\":0,\"fString\":\"bin3\"}],\"opt\":[\"\",\"\",\"\"]},\"fModLabs\":null},\"fYaxis\":{\"_typename\":\"TAxis\",\"fUniqueID\":0,\"fBits\":0,\"fName\":\"yaxis\",\"fTitle\":\"\",\"fNdivisions\":510,\"fAxisColor\":1,\"fLabelColor\":1,\"fLabelFont\":42,\"fLabelOffset\":0.005,\"fLabelSize\":0.035,\"fTickLength\":0.03,\"fTitleOffset\":0,\"fTitleSize\":0.035,\"fTitleColor\":1,\"fTitleFont\":42,\"fNbins\":1,\"fXmin\":0,\"fXmax\":1,\"fXbins\":[],\"fFirst\":0,\"fLast\":0,\"fBits2\":0,\"fTimeDisplay\":false,\"fTimeFormat\":\"\",\"fLabels\":null,\"fModLabs\":null},\"fZaxis\":{\"_typename\":\"TAxis\",\"fUniqueID\":0,\"fBits\":0,\"fName\":\"zaxis\",\"fTitle\":\"\",\"fNdivisions\":510,\"fAxisColor\":1,\"fLabelColor\":1,\"fLabelFont\":42,\"fLabelOffset\":0.005,\"fLabelSize\":0.035,\"fTickLength\":0.03,\"fTitleOffset\":1,\"fTitleSize\":0.035,\"fTitleColor\":1,\"fTitleFont\":42,\"fNbins\":1,\"fXmin\":0,\"fXmax\":1,\"fXbins\":[],\"fFirst\":0,\"fLast\":0,\"fBits2\":0,\"fTimeDisplay\":false,\"fTimeFormat\":\"\",\"fLabels\":null,\"fModLabs\":null},\"fBarOffset\":0,\"fBarWidth\":1000,\"fEntries\":3,\"fTsumw\":0,\"fTsumw2\":0,\"fTsumwx\":0,\"fTsumwx2\":0,\"fMaximum\":-1111,\"fMinimum\":-1111,\"fNormFactor\":0,\"fContour\":[],\"fSumw2\":[],\"fOption\":\"\",\"fFunctions\":{\"_typename\":\"TList\",\"name\":\"TList\",\"arr\":[],\"opt\":[]},\"fBufferSize\":0,\"fBuffer\":[],\"fBinStatErrOpt\":0,\"fStatOverflows\":2,\"fArray\":[0,14,9,29,0]}},{\"_typename\":\"TWebSnapshot\",\"fUniqueID\":0,\"fBits\":0,\"fObjectID\":\"\",\"fOption\":\"\",\"fKind\":1,\"fSnapshot\":{\"_typename\":\"TLegend\",\"fUniqueID\":0,\"fBits\":8,\"fLineColor\":1,\"fLineStyle\":1,\"fLineWidth\":1,\"fFillColor\":0,\"fFillStyle\":0,\"fX1\":1.31249999720603,\"fY1\":31.2500000931323,\"fX2\":2.62500001676381,\"fY2\":47.5000003352761,\"fX1NDC\":0.45,\"fY1NDC\":0.6,\"fX2NDC\":0.8,\"fY2NDC\":0.86,\"fBorderSize\":0,\"fInit\":1,\"fShadowColor\":1,\"fCornerRadius\":0,\"fOption\":\"brNDC\",\"fName\":\"TPave\",\"fTextAngle\":0,\"fTextSize\":0.024,\"fTextAlign\":12,\"fTextColor\":1,\"fTextFont\":62,\"fPrimitives\":{\"_typename\":\"TList\",\"name\":\"TList\",\"arr\":[{\"_typename\":\"TLegendEntry\",\"fUniqueID\":0,\"fBits\":0,\"fTextAngle\":0,\"fTextSize\":0,\"fTextAlign\":0,\"fTextColor\":0,\"fTextFont\":62,\"fLineColor\":1,\"fLineStyle\":1,\"fLineWidth\":1,\"fFillColor\":0,\"fFillStyle\":0,\"fMarkerColor\":1,\"fMarkerStyle\":8,\"fMarkerSize\":1,\"fObject\":{\"$ref\":93},\"fLabel\":\"data_obs\",\"fOption\":\"ep\"},{\"_typename\":\"TLegendEntry\",\"fUniqueID\":0,\"fBits\":0,\"fTextAngle\":0,\"fTextSize\":0,\"fTextAlign\":0,\"fTextColor\":0,\"fTextFont\":62,\"fLineColor\":796,\"fLineStyle\":1,\"fLineWidth\":1,\"fFillColor\":796,\"fFillStyle\":1001,\"fMarkerColor\":1,\"fMarkerStyle\":21,\"fMarkerSize\":1,\"fObject\":{\"$ref\":64},\"fLabel\":\"WZ\",\"fOption\":\"lf\"},{\"_typename\":\"TLegendEntry\",\"fUniqueID\":0,\"fBits\":0,\"fTextAngle\":0,\"fTextSize\":0,\"fTextAlign\":0,\"fTextColor\":0,\"fTextFont\":62,\"fLineColor\":593,\"fLineStyle\":1,\"fLineWidth\":1,\"fFillColor\":593,\"fFillStyle\":1001,\"fMarkerColor\":1,\"fMarkerStyle\":21,\"fMarkerSize\":1,\"fObject\":{\"$ref\":55},\"fLabel\":\"TT\",\"fOption\":\"lf\"},{\"_typename\":\"TLegendEntry\",\"fUniqueID\":0,\"fBits\":0,\"fTextAngle\":0,\"fTextSize\":0,\"fTextAlign\":0,\"fTextColor\":0,\"fTextFont\":62,\"fLineColor\":623,\"fLineStyle\":1,\"fLineWidth\":1,\"fFillColor\":623,\"fFillStyle\":1001,\"fMarkerColor\":1,\"fMarkerStyle\":21,\"fMarkerSize\":1,\"fObject\":{\"$ref\":46},\"fLabel\":\"DY\",\"fOption\":\"lf\"},{\"_typename\":\"TLegendEntry\",\"fUniqueID\":0,\"fBits\":0,\"fTextAngle\":0,\"fTextSize\":0,\"fTextAlign\":0,\"fTextColor\":0,\"fTextFont\":62,\"fLineColor\":416,\"fLineStyle\":1,\"fLineWidth\":1,\"fFillColor\":0,\"fFillStyle\":0,\"fMarkerColor\":1,\"fMarkerStyle\":21,\"fMarkerSize\":1,\"fObject\":{\"$ref\":83},\"fLabel\":\"signal\",\"fOption\":\"l\"}],\"opt\":[\"ep\",\"lf\",\"lf\",\"lf\",\"l\"]},\"fEntrySeparation\":0.1,\"fMargin\":0.25,\"fNColumns\":1,\"fColumnSeparation\":0}}],\"fScripts\":\"\",\"fHighlightConnect\":false,\"fFixedSize\":false});\n",
       "   Core.settings.HandleKeys = false;\n",
       "   Core.draw(\"root_plot_1753173037023\", obj, \"\");\n",
       "}\n",
       "\n",
       "function script_load_root_plot_1753173037023(src, on_error) {\n",
       "    let script = document.createElement('script');\n",
       "    script.src = src;\n",
       "    script.onload = function() { display_root_plot_1753173037023(JSROOT); };\n",
       "    script.onerror = function() { script.remove(); on_error(); };\n",
       "    document.head.appendChild(script);\n",
       "}\n",
       "\n",
       "if (typeof requirejs !== 'undefined') {\n",
       "\n",
       "    // We are in jupyter notebooks, use require.js which should be configured already\n",
       "    requirejs.config({\n",
       "       paths: { 'JSRootCore' : [ 'build/jsroot', 'https://root.cern/js/7.7.4/build/jsroot', 'https://jsroot.gsi.de/7.7.4/build/jsroot' ] }\n",
       "    })(['JSRootCore'],  function(Core) {\n",
       "       display_root_plot_1753173037023(Core);\n",
       "    });\n",
       "\n",
       "} else if (typeof JSROOT !== 'undefined') {\n",
       "\n",
       "   // JSROOT already loaded, just use it\n",
       "   display_root_plot_1753173037023(JSROOT);\n",
       "\n",
       "} else {\n",
       "\n",
       "    // We are in jupyterlab without require.js, directly loading jsroot\n",
       "    // Jupyterlab might be installed in a different base_url so we need to know it.\n",
       "    try {\n",
       "        var base_url = JSON.parse(document.getElementById('jupyter-config-data').innerHTML).baseUrl;\n",
       "    } catch(_) {\n",
       "        var base_url = '/';\n",
       "    }\n",
       "\n",
       "    // Try loading a local version of requirejs and fallback to cdn if not possible.\n",
       "    script_load_root_plot_1753173037023(base_url + 'static/build/jsroot.js', function(){\n",
       "        console.error('Fail to load JSROOT locally, please check your jupyter_notebook_config.py file');\n",
       "        script_load_root_plot_1753173037023('https://root.cern/js/7.7.4/build/jsroot.js', function(){\n",
       "            document.getElementById(\"root_plot_1753173037023\").innerHTML = \"Failed to load JSROOT\";\n",
       "        });\n",
       "    });\n",
       "}\n",
       "\n",
       "</script>\n"
      ],
      "text/plain": [
       "<IPython.core.display.HTML object>"
      ]
     },
     "metadata": {},
     "output_type": "display_data"
    }
   ],
   "source": [
    "##Draw the histograms\n",
    "file_VLL  = ROOT.TFile.Open(\"Shapes_VLLM400_ch3L2018_LTMET.root\",\"READ\")\n",
    "file_DY   = ROOT.TFile.Open(\"Shapes_DY_ch3L2018_LTMET.root\",\"READ\")\n",
    "file_TT   = ROOT.TFile.Open(\"Shapes_TT_ch3L2018_LTMET.root\",\"READ\")\n",
    "file_WZ   = ROOT.TFile.Open(\"Shapes_WZ_ch3L2018_LTMET.root\",\"READ\")\n",
    "file_data = ROOT.TFile.Open(\"Shapes_data_obs_ch3L2018_LTMET.root\",\"READ\")\n",
    "\n",
    "h_VLL  = file_VLL.Get(\"ch3L2018_LTMET_VLLM400\")\n",
    "h_DY   = file_DY.Get(\"ch3L2018_LTMET_DY\")\n",
    "h_TT   = file_TT.Get(\"ch3L2018_LTMET_TT\")\n",
    "h_WZ   = file_WZ.Get(\"ch3L2018_LTMET_WZ\")\n",
    "h_data = file_data.Get(\"ch3L2018_LTMET_data_obs\")\n",
    "\n",
    "#styling\n",
    "h_VLL= hStyle(h_VLL,ROOT.kGreen,0)\n",
    "h_DY = hStyle(h_DY,ROOT.kRed-9,ROOT.kRed-9)\n",
    "h_TT = hStyle(h_TT,ROOT.kBlue-7,ROOT.kBlue-7)\n",
    "h_WZ = hStyle(h_WZ,ROOT.kOrange-4,ROOT.kOrange-4)\n",
    "\n",
    "h_data.SetMarkerStyle(8)\n",
    "h_data.SetLineColor(ROOT.kBlack)\n",
    "\n",
    "h_stack = ROOT.THStack()\n",
    "h_stack.Add(h_DY)\n",
    "h_stack.Add(h_TT)\n",
    "h_stack.Add(h_WZ)\n",
    "\n",
    "#legend\n",
    "legend = ROOT.TLegend(0.45,0.60,0.80,0.86)\n",
    "legend.AddEntry(h_data,\"data_obs\",\"ep\")\n",
    "legend.AddEntry(h_WZ,\"WZ\",\"lf\")\n",
    "legend.AddEntry(h_TT,\"TT\",\"lf\")\n",
    "legend.AddEntry(h_DY,\"DY\",\"lf\")\n",
    "legend.AddEntry(h_VLL,\"signal\",\"l\")\n",
    "legend.SetTextFont(62)\n",
    "legend.SetFillStyle(0)\n",
    "legend.SetBorderSize(0)\n",
    "legend.SetTextSize(0.024)\n",
    "#plotting\n",
    "canvas = ROOT.TCanvas(\"can\",\"canvas\",600,600)\n",
    "ROOT.gStyle.SetOptStat(0)\n",
    "ROOT.gPad.SetTickx(1)\n",
    "ROOT.gPad.SetTicky(1)\n",
    "\n",
    "h_stack.SetMinimum(0)\n",
    "h_stack.SetMaximum(50)\n",
    "h_stack.Draw(\"HIST\")\n",
    "h_VLL.Draw(\"HISTE SAME\")\n",
    "h_data.Draw(\"EP SAME\")\n",
    "\n",
    "legend.Draw()\n",
    "\n",
    "h_stack.GetYaxis().SetTitle('Events')\n",
    "h_stack.GetXaxis().SetTitle('Bins')\n",
    "#beautification\n",
    "h_stack.GetXaxis().SetTitleFont(43)\n",
    "h_stack.GetXaxis().SetTitleSize(20)\n",
    "h_stack.GetXaxis().SetTitleOffset(0.8)\n",
    "h_stack.GetXaxis().SetLabelFont(43)\n",
    "h_stack.GetYaxis().SetLabelSize(16)\n",
    "h_stack.GetXaxis().SetNdivisions(513)\n",
    "h_stack.GetYaxis().SetTitleFont(43)\n",
    "h_stack.GetYaxis().SetTitleSize(20)\n",
    "h_stack.GetYaxis().SetTitleOffset(1.2)\n",
    "h_stack.GetYaxis().SetLabelFont(43)\n",
    "h_stack.GetYaxis().SetLabelSize(16)\n",
    "h_stack.GetYaxis().SetNdivisions(513)\n",
    "canvas.SaveAs(\"counting-experiment.png\")"
   ]
  },
  {
   "cell_type": "code",
   "execution_count": 10,
   "id": "cd29edf7-2132-4917-b84a-3a6ebbad8f3e",
   "metadata": {},
   "outputs": [
    {
     "data": {
      "image/png": "[encoded data removed]",
      "text/plain": [
       "<IPython.core.display.Image object>"
      ]
     },
     "metadata": {},
     "output_type": "display_data"
    }
   ],
   "source": [
    "display(Image(\"counting-experiment.png\"))"
   ]
  },
  {
   "cell_type": "code",
   "execution_count": 11,
   "id": "25b5fb70-5436-4f8c-b98f-3c6348da35de",
   "metadata": {},
   "outputs": [
    {
     "name": "stdout",
     "output_type": "stream",
     "text": [
      "N_signal= 11.0± 3.3166247903554\n",
      "N_DY= 18.0± 4.242640687119285\n",
      "N_TT= 9.0± 3.0\n",
      "N_WZ= 24.0± 4.898979485566356\n",
      "N_data_obs= 52.0± 7.211102550927978\n",
      "N_tot_bkg= 51.0± 7.14142842854285\n"
     ]
    }
   ],
   "source": [
    "proclabel=['signal','DY','TT','WZ','data_obs']\n",
    "histlist =[h_VLL,h_DY,h_TT,h_WZ,h_data]\n",
    "\n",
    "for i,hist in enumerate(histlist):\n",
    "    h = hist.Clone('h')\n",
    "    print(f\"N_{proclabel[i]}= {h.Integral()}\\u00B1 {h.Rebin(h.GetNbinsX()).GetBinError(1)}\")\n",
    "\n",
    "##total background\n",
    "h_totbkg = h_DY.Clone(\"h_totbkg\")\n",
    "h_totbkg.Add(h_TT)\n",
    "h_totbkg.Add(h_WZ)\n",
    "print(f\"N_tot_bkg= {h_totbkg.Integral()}\\u00B1 {h_totbkg.Rebin(h_totbkg.GetNbinsX()).GetBinError(1)}\")\n",
    " "
   ]
  },
  {
   "cell_type": "code",
   "execution_count": 12,
   "id": "4ed32b95-07fb-457c-b697-23e71014d7e4",
   "metadata": {},
   "outputs": [],
   "source": [
    "#binwise\n",
    "def printBinwise(histlist):\n",
    "    for ibin in [1,2,3]:\n",
    "        print(f'Bin Number: {ibin}')\n",
    "        for i,hist in enumerate(histlist):\n",
    "            h = hist.Clone('h')\n",
    "            print(f\"N_{proclabel[i]}= {h.GetBinContent(ibin)}\\u00B1 {h.GetBinError(ibin)}\")\n",
    "\n",
    "        print()\n"
   ]
  },
  {
   "cell_type": "code",
   "execution_count": 13,
   "id": "af823d85-593d-4d65-954c-20843016151b",
   "metadata": {},
   "outputs": [
    {
     "name": "stdout",
     "output_type": "stream",
     "text": [
      "Bin Number: 1\n",
      "N_signal= 3.0± 1.7320508075688772\n",
      "N_DY= 2.0± 1.4142135623730951\n",
      "N_TT= 4.0± 2.0\n",
      "N_WZ= 7.0± 2.6457513110645907\n",
      "N_data_obs= 14.0± 3.7416573867739413\n",
      "\n",
      "Bin Number: 2\n",
      "N_signal= 1.0± 1.0\n",
      "N_DY= 7.0± 2.6457513110645907\n",
      "N_TT= 1.0± 1.0\n",
      "N_WZ= 4.0± 2.0\n",
      "N_data_obs= 9.0± 3.0\n",
      "\n",
      "Bin Number: 3\n",
      "N_signal= 7.0± 2.6457513110645907\n",
      "N_DY= 9.0± 3.0\n",
      "N_TT= 4.0± 2.0\n",
      "N_WZ= 13.0± 3.605551275463989\n",
      "N_data_obs= 29.0± 5.385164807134504\n",
      "\n"
     ]
    }
   ],
   "source": [
    "printBinwise(histlist)\n"
   ]
  },
  {
   "cell_type": "code",
   "execution_count": 14,
   "id": "3116b521-2d75-4f5b-aada-e271cadf2085",
   "metadata": {},
   "outputs": [],
   "source": [
    "##print out dummy systematics variations"
   ]
  },
  {
   "cell_type": "code",
   "execution_count": 15,
   "id": "7ebab68e-b0da-42e1-b98c-8f3a4f3a81ac",
   "metadata": {},
   "outputs": [
    {
     "name": "stdout",
     "output_type": "stream",
     "text": [
      "Name: ch3L2018_LTMET_VLLM400 Title: VLLM400_LTMET\n",
      "Name: ch3L2018_LTMET_VLLM400_CMS_btagUp Title: VLLM400_LTMET\n",
      "Name: ch3L2018_LTMET_VLLM400_CMS_btagDown Title: VLLM400_LTMET\n",
      "Name: ch3L2018_LTMET_VLLM400_CMS_JESUp Title: VLLM400_LTMET\n",
      "Name: ch3L2018_LTMET_VLLM400_CMS_JESDown Title: VLLM400_LTMET\n",
      "Name: ch3L2018_LTMET_VLLM400_CMS_POGIDUp Title: VLLM400_LTMET\n",
      "Name: ch3L2018_LTMET_VLLM400_CMS_POGIDDown Title: VLLM400_LTMET\n"
     ]
    }
   ],
   "source": [
    "for keys in file_VLL.GetListOfKeys():\n",
    "    print(keys)"
   ]
  },
  {
   "cell_type": "code",
   "execution_count": 16,
   "id": "7f960229-24e8-414e-be0f-f47dfb62b756",
   "metadata": {},
   "outputs": [
    {
     "name": "stderr",
     "output_type": "stream",
     "text": [
      "Info in <TCanvas::Print>: png file syst-example.png has been created\n"
     ]
    },
    {
     "data": {
      "text/html": [
       "\n",
       "\n",
       "<div id=\"root_plot_1753173038056\" style=\"width: 600px; height: 400px; position: relative\">\n",
       "</div>\n",
       "\n",
       "<script>\n",
       "\n",
       "function display_root_plot_1753173038056(Core) {\n",
       "   let obj = Core.parse({\"_typename\":\"TCanvasWebSnapshot\",\"fUniqueID\":0,\"fBits\":0,\"fObjectID\":\"\",\"fOption\":\"\",\"fKind\":3,\"fSnapshot\":{\"_typename\":\"TCanvas\",\"fUniqueID\":0,\"fBits\":3342344,\"fLineColor\":1,\"fLineStyle\":1,\"fLineWidth\":1,\"fFillColor\":0,\"fFillStyle\":1001,\"fLeftMargin\":0.1,\"fRightMargin\":0.1,\"fBottomMargin\":0.1,\"fTopMargin\":0.1,\"fXfile\":2,\"fYfile\":2,\"fAfile\":1,\"fXstat\":0.99,\"fYstat\":0.99,\"fAstat\":2,\"fFrameFillColor\":0,\"fFrameLineColor\":1,\"fFrameFillStyle\":1001,\"fFrameLineStyle\":1,\"fFrameLineWidth\":1,\"fFrameBorderSize\":1,\"fFrameBorderMode\":0,\"fX1\":-0.375000027939679,\"fY1\":0.749999996274709,\"fX2\":3.37500002793968,\"fY2\":1.25000000372529,\"fXtoAbsPixelk\":59.600003552437,\"fXtoPixelk\":59.600003552437,\"fXtoPixel\":158.933330965042,\"fYtoAbsPixelk\":929.999988913536,\"fYtoPixelk\":929.999988913536,\"fYtoPixel\":-743.999988913536,\"fUtoAbsPixelk\":0,\"fUtoPixelk\":0,\"fUtoPixel\":596,\"fVtoAbsPixelk\":372,\"fVtoPixelk\":372,\"fVtoPixel\":-372,\"fAbsPixeltoXk\":-0.375000027939679,\"fPixeltoXk\":-0.375000027939679,\"fPixeltoX\":0.00629194640248214,\"fAbsPixeltoYk\":1.25000000372529,\"fPixeltoYk\":0.749999996274709,\"fPixeltoY\":-0.00134408604153382,\"fXlowNDC\":0,\"fYlowNDC\":0,\"fXUpNDC\":1,\"fYUpNDC\":1,\"fWNDC\":1,\"fHNDC\":1,\"fAbsXlowNDC\":0,\"fAbsYlowNDC\":0,\"fAbsWNDC\":1,\"fAbsHNDC\":1,\"fUxmin\":0,\"fUymin\":0.8,\"fUxmax\":3,\"fUymax\":1.2,\"fTheta\":30,\"fPhi\":30,\"fAspectRatio\":0,\"fNumber\":0,\"fTickx\":0,\"fTicky\":0,\"fLogx\":0,\"fLogy\":0,\"fLogz\":0,\"fPadPaint\":0,\"fCrosshair\":0,\"fCrosshairPos\":0,\"fBorderSize\":2,\"fBorderMode\":0,\"fModified\":false,\"fGridx\":false,\"fGridy\":false,\"fAbsCoord\":false,\"fEditable\":true,\"fFixedAspectRatio\":false,\"fPrimitives\":{\"_typename\":\"TList\",\"name\":\"TList\",\"arr\":[],\"opt\":[]},\"fExecs\":null,\"fName\":\"systcan_DY_CMS_btag\",\"fTitle\":\"canvas\",\"fNumPaletteColor\":0,\"fNextPaletteColor\":0,\"fDISPLAY\":\"$DISPLAY\",\"fDoubleBuffer\":0,\"fRetained\":true,\"fXsizeUser\":0,\"fYsizeUser\":0,\"fXsizeReal\":20,\"fYsizeReal\":13.33333,\"fWindowTopX\":0,\"fWindowTopY\":0,\"fWindowWidth\":0,\"fWindowHeight\":0,\"fCw\":596,\"fCh\":372,\"fCatt\":{\"_typename\":\"TAttCanvas\",\"fXBetween\":2,\"fYBetween\":2,\"fTitleFromTop\":1.2,\"fXdate\":0.2,\"fYdate\":0.3,\"fAdate\":1},\"kMoveOpaque\":true,\"kResizeOpaque\":true,\"fHighLightColor\":2,\"fBatch\":true,\"kShowEventStatus\":false,\"kAutoExec\":true,\"kMenuBar\":true},\"fActive\":false,\"fReadOnly\":true,\"fWithoutPrimitives\":false,\"fHasExecs\":false,\"fPrimitives\":[{\"_typename\":\"TWebSnapshot\",\"fUniqueID\":0,\"fBits\":0,\"fObjectID\":\"\",\"fOption\":\"\",\"fKind\":4,\"fSnapshot\":{\"_typename\":\"TWebPainting\",\"fUniqueID\":0,\"fBits\":0,\"fOper\":\"0:255,255,255;1:0,0,0;2:255,0,0;3:0,255,0;4:0,0,255;5:255,255,0;6:255,0,255;7:0,255,255;8:89,211,84;9:89,84,216;10:254,254,254;11:192,182,172;12:76,76,76;13:102,102,102;14:127,127,127;15:153,153,153;16:178,178,178;17:204,204,204;18:229,229,229;19:242,242,242;20:204,198,170;21:204,198,170;22:193,191,168;23:186,181,163;24:178,165,150;25:183,163,155;26:173,153,140;27:155,142,130;28:135,102,86;29:175,206,198;30:132,193,163;31:137,168,160;32:130,158,140;33:173,188,198;34:122,142,153;35:117,137,145;36:104,130,150;37:109,122,132;38:124,153,209;39:127,127,155;40:170,165,191;41:211,206,135;42:221,186,135;43:188,158,130;44:198,153,124;45:191,130,119;46:206,94,96;47:170,142,147;48:165,119,122;49:147,104,112;50:211,89,84;51:146,0,255;52:122,0,255;53:98,0,255;54:74,0,255;55:51,0,255;56:27,0,255;57:3,0,255;58:0,20,255;59:0,44,255;60:0,68,255;61:0,91,255;62:0,115,255;63:0,139,255;64:0,163,255;65:0,187,255;66:0,210,255;67:0,234,255;68:0,255,251;69:0,255,227;70:0,255,204;71:0,255,180;72:0,255,156;73:0,255,132;74:0,255,108;75:0,255,85;76:0,255,61;77:0,255,37;78:0,255,13;79:10,255,0;80:34,255,0;81:57,255,0;82:81,255,0;83:105,255,0;84:129,255,0;85:153,255,0;86:176,255,0;87:200,255,0;88:224,255,0;89:248,255,0;90:255,238,0;91:255,214,0;92:255,190,0;93:255,166,0;94:255,142,0;95:255,119,0;96:255,95,0;97:255,71,0;98:255,47,0;99:255,23,0;100:111,45,168;101:165,42,42;102:178,190,181;103:87,144,252;104:248,156,32;105:228,37,54;106:150,74,139;107:156,156,161;108:122,33,221;109:24,69,251;110:255,94,2;111:201,31,22;112:200,73,169;113:173,173,125;114:134,200,221;115:87,141,255;116:101,99,100;117:63,144,218;118:255,169,14;119:189,31,1;120:148,164,162;121:131,45,182;122:169,107,89;123:231,99,0;124:185,172,112;125:113,117,129;126:146,218,221;127:178,178,178;201:91,91,91;202:122,122,122;203:183,183,183;204:214,214,214;205:137,15,15;206:183,20,20;207:234,71,71;208:239,117,117;209:15,137,15;210:20,183,20;211:71,234,71;212:117,239,117;213:15,15,137;214:20,20,183;215:71,71,234;216:117,117,239;217:137,137,15;218:183,183,20;219:234,234,71;220:239,239,117;221:137,15,137;222:183,20,183;223:234,71,234;224:239,117,239;225:15,137,137;226:20,183,183;227:71,234,234;228:117,239,239;390:255,255,204;391:255,255,153;392:204,204,153;393:255,255,102;394:204,204,102;395:153,153,102;396:255,255,51;397:204,204,51;398:153,153,51;399:102,102,51;400:255,255,0;401:204,204,0;402:153,153,0;403:102,102,0;404:51,51,0;406:204,255,204;407:153,255,153;408:153,204,153;409:102,255,102;410:102,204,102;411:102,153,102;412:51,255,51;413:51,204,51;414:51,153,51;415:51,102,51;416:0,255,0;417:0,204,0;418:0,153,0;419:0,102,0;420:0,51,0;422:204,255,255;423:153,255,255;424:153,204,204;425:102,255,255;426:102,204,204;427:102,153,153;428:51,255,255;429:51,204,204;430:51,153,153;431:51,102,102;432:0,255,255;433:0,204,204;434:0,153,153;435:0,102,102;436:0,51,51;590:204,204,255;591:153,153,255;592:153,153,204;593:102,102,255;594:102,102,204;595:102,102,153;596:51,51,255;597:51,51,204;598:51,51,153;599:51,51,102;600:0,0,255;601:0,0,204;602:0,0,153;603:0,0,102;604:0,0,51;606:255,204,255;607:255,153,255;608:204,153,204;609:255,102,255;610:204,102,204;611:153,102,153;612:255,51,255;613:204,51,204;614:153,51,153;615:102,51,102;616:255,0,255;617:204,0,204;618:153,0,153;619:102,0,102;620:51,0,51;622:255,204,204;623:255,153,153;624:204,153,153;625:255,102,102;626:204,102,102;627:153,102,102;628:255,51,51;629:204,51,51;630:153,51,51;631:102,51,51;632:255,0,0;633:204,0,0;634:153,0,0;635:102,0,0;636:51,0,0;791:255,204,153;792:204,153,102;793:153,102,51;794:153,102,0;795:204,153,51;796:255,204,102;797:255,153,0;798:255,204,51;799:204,153,0;800:255,204,0;801:255,153,51;802:204,102,0;803:102,51,0;804:153,51,0;805:204,102,51;806:255,153,102;807:255,102,0;808:255,102,51;809:204,51,0;810:255,51,0;811:153,255,51;812:102,204,0;813:51,102,0;814:51,153,0;815:102,204,51;816:153,255,102;817:102,255,0;818:102,255,51;819:51,204,0;820:51,255,0;821:204,255,153;822:153,204,102;823:102,153,51;824:102,153,0;825:153,204,51;826:204,255,102;827:153,255,0;828:204,255,51;829:153,204,0;830:204,255,0;831:153,255,204;832:102,204,153;833:51,153,102;834:0,153,102;835:51,204,153;836:102,255,204;837:0,255,102;838:51,255,204;839:0,204,153;840:0,255,204;841:51,255,153;842:0,204,102;843:0,102,51;844:0,153,51;845:51,204,102;846:102,255,153;847:0,255,153;848:51,255,102;849:0,204,51;850:0,255,51;851:153,204,255;852:102,153,204;853:51,102,153;854:0,51,153;855:51,102,204;856:102,153,255;857:0,102,255;858:51,102,255;859:0,51,204;860:0,51,255;861:51,153,255;862:0,102,204;863:0,51,102;864:0,102,153;865:51,153,204;866:102,204,255;867:0,153,255;868:51,204,255;869:0,153,204;870:0,204,255;871:204,153,255;872:153,102,204;873:102,51,153;874:102,0,153;875:153,51,204;876:204,102,255;877:153,0,255;878:204,51,255;879:153,0,204;880:204,0,255;881:153,51,255;882:102,0,204;883:51,0,102;884:51,0,153;885:102,51,204;886:153,102,255;887:102,0,255;888:102,51,255;889:51,0,204;890:51,0,255;891:255,51,153;892:204,0,102;893:102,0,51;894:153,0,51;895:204,51,102;896:255,102,153;897:255,0,102;898:255,51,102;899:204,0,51;900:255,0,51;901:255,153,204;902:204,102,153;903:153,51,102;904:153,0,102;905:204,51,153;906:255,102,204;907:255,0,153;908:204,0,153;909:255,51,204;910:255,0,153;920:204,204,204;921:153,153,153;922:102,102,102;923:51,51,51;924:53,42,134;925:51,44,137;926:50,45,140;927:49,47,143;928:48,48,146;929:46,50,148;930:45,51,151;931:44,53,154;932:43,55,157;933:42,56,160;934:40,58,162;935:39,59,165;936:38,61,168;937:37,63,171;938:35,64,174;939:34,66,176;940:33,67,179;941:32,69,182;942:31,71,185;943:29,72,187;944:28,74,190;945:27,75,193;946:26,77,196;947:24,79,199;948:23,80,201;949:22,82,204;950:21,83,207;951:19,85,210;952:18,86,213;953:17,88,215;954:16,90,218;955:15,91,221;956:15,92,221;957:15,94,220;958:15,95,220;959:15,96,220;960:15,97,220;961:15,98,220;962:16,99,219;963:16,100,219;964:16,102,219;965:16,103,219;966:16,104,218;967:16,105,218;968:17,106,218;969:17,107,218;970:17,109,217;971:17,110,217;972:17,111,217;973:17,112,217;974:17,113,216;975:18,114,216;976:18,115,216;977:18,117,216;978:18,118,215;979:18,119,215;980:18,120,215;981:18,121,215;982:19,122,215;983:19,123,214;984:19,125,214;985:19,126,214;986:19,127,214;987:19,128,213;988:19,129,213;989:19,130,213;990:18,131,212;991:18,132,212;992:17,134,211;993:17,135,211;994:16,136,211;995:16,137,210;996:15,138,210;997:15,139,210;998:15,140,209;999:14,141,209;1000:14,142,208;1001:13,143,208;1002:13,145,208;1003:12,146,207;1004:12,147,207;1005:12,148,207;1006:11,149,206;1007:11,150,206;1008:10,151,205;1009:10,152,205;1010:9,153,205;1011:9,154,204;1012:8,155,204;1013:8,157,204;1014:8,158,203;1015:7,159,203;1016:7,160,202;1017:6,161,202;1018:6,162,202;1019:5,163,201;1020:7,164,200;1021:8,164,199;1022:9,165,198;1023:10,166,197;1024:12,166,195;1025:13,167,194;1026:14,167,193;1027:15,168,192;1028:17,169,191;1029:18,169,189;1030:19,170,188;1031:20,170,187;1032:22,171,186;1033:23,172,185;1034:24,172,184;1035:25,173,182;1036:27,173,181;1037:28,174,180;1038:29,175,179;1039:30,175,178;1040:32,176,176;1041:33,176,175;1042:34,177,174;1043:35,178,173;1044:37,178,172;1045:38,179,170;1046:39,180,169;1047:40,180,168;1048:42,181,167;1049:43,181,166;1050:44,182,165;1051:45,183,163;1052:48,183,162;1053:51,183,161;1054:54,183,159;1055:57,184,158;1056:59,184,156;1057:62,184,155;1058:65,184,154;1059:68,185,152;1060:71,185,151;1061:73,185,149;1062:76,185,148;1063:79,186,146;1064:82,186,145;1065:84,186,144;1066:87,186,142;1067:90,187,141;1068:93,187,139;1069:96,187,138;1070:98,187,137;1071:101,188,135;1072:104,188,134;1073:107,188,132;1074:110,188,131;1075:112,189,130;1076:115,189,128;1077:118,189,127;1078:121,189,125;1079:124,190,124;1080:126,190,123;1081:129,190,121;1082:132,190,120;1083:135,191,118;1084:137,190,117;1085:139,190,117;1086:142,190,116;1087:144,190,115;1088:146,190,114;1089:148,190,113;1090:151,190,112;1091:153,190,111;1092:155,189,110;1093:158,189,109;1094:160,189,108;1095:162,189,107;1096:165,189,106;1097:167,189,105;1098:169,189,104;1099:171,188,104;1100:174,188,103;1101:176,188,102;1102:178,188,101;1103:181,188,100;1104:183,188,99;1105:185,188,98;1106:188,188,97;1107:190,187,96;1108:192,187,95;1109:194,187,94;1110:197,187,93;1111:199,187,92;1112:201,187,92;1113:204,187,91;1114:206,186,90;1115:208,186,89;1116:210,187,88;1117:211,187,86;1118:212,188,85;1119:214,188,84;1120:215,188,83;1121:217,189,81;1122:218,189,80;1123:220,190,79;1124:221,190,78;1125:222,191,77;1126:224,191,75;1127:225,191,74;1128:227,192,73;1129:228,192,72;1130:229,193,70;1131:231,193,69;1132:232,194,68;1133:234,194,67;1134:235,194,66;1135:236,195,64;1136:238,195,63;1137:239,196,62;1138:241,196,61;1139:242,197,59;1140:244,197,58;1141:245,197,57;1142:246,198,56;1143:248,198,55;1144:249,199,53;1145:251,199,52;1146:252,200,51;1147:253,200,50;1148:253,202,49;1149:253,203,47;1150:253,205,46;1151:253,206,45;1152:253,208,44;1153:252,209,43;1154:252,211,42;1155:252,213,41;1156:252,214,39;1157:252,216,38;1158:252,217,37;1159:252,219,36;1160:251,220,35;1161:251,222,34;1162:251,224,33;1163:251,225,31;1164:251,227,30;1165:251,228,29;1166:250,230,28;1167:250,231,27;1168:250,233,26;1169:250,235,25;1170:250,236,23;1171:250,238,22;1172:250,239,21;1173:249,241,20;1174:249,242,19;1175:249,244,18;1176:249,246,17;1177:249,247,16;1178:249,249,14\",\"fBuf\":{\"$arr\":\"Float32\",\"len\":255,\"v\":[924,925,926,927,928,929,930,931,932,933,934,935,936,937,938,939,940,941,942,943,944,945,946,947,948,949,950,951,952,953,954,955,956,957,958,959,960,961,962,963,964,965,966,967,968,969,970,971,972,973,974,975,976,977,978,979,980,981,982,983,984,985,986,987,988,989,990,991,992,993,994,995,996,997,998,999,1000,1001,1002,1003,1004,1005,1006,1007,1008,1009,1010,1011,1012,1013,1014,1015,1016,1017,1018,1019,1020,1021,1022,1023,1024,1025,1026,1027,1028,1029,1030,1031,1032,1033,1034,1035,1036,1037,1038,1039,1040,1041,1042,1043,1044,1045,1046,1047,1048,1049,1050,1051,1052,1053,1054,1055,1056,1057,1058,1059,1060,1061,1062,1063,1064,1065,1066,1067,1068,1069,1070,1071,1072,1073,1074,1075,1076,1077,1078,1079,1080,1081,1082,1083,1084,1085,1086,1087,1088,1089,1090,1091,1092,1093,1094,1095,1096,1097,1098,1099,1100,1101,1102,1103,1104,1105,1106,1107,1108,1109,1110,1111,1112,1113,1114,1115,1116,1117,1118,1119,1120,1121,1122,1123,1124,1125,1126,1127,1128,1129,1130,1131,1132,1133,1134,1135,1136,1137,1138,1139,1140,1141,1142,1143,1144,1145,1146,1147,1148,1149,1150,1151,1152,1153,1154,1155,1156,1157,1158,1159,1160,1161,1162,1163,1164,1165,1166,1167,1168,1169,1170,1171,1172,1173,1174,1175,1176,1177,1178]}}},{\"_typename\":\"TWebSnapshot\",\"fUniqueID\":0,\"fBits\":0,\"fObjectID\":\"\",\"fOption\":\"\",\"fKind\":5,\"fSnapshot\":{\"_typename\":\"TStyle\",\"fUniqueID\":0,\"fBits\":0,\"fName\":\"Modern\",\"fTitle\":\"Modern Style\",\"fLineColor\":1,\"fLineStyle\":1,\"fLineWidth\":1,\"fFillColor\":19,\"fFillStyle\":1001,\"fMarkerColor\":1,\"fMarkerStyle\":1,\"fMarkerSize\":1,\"fTextAngle\":0,\"fTextSize\":0.05,\"fTextAlign\":11,\"fTextColor\":1,\"fTextFont\":62,\"fXaxis\":{\"_typename\":\"TAttAxis\",\"fNdivisions\":510,\"fAxisColor\":1,\"fLabelColor\":1,\"fLabelFont\":42,\"fLabelOffset\":0.005,\"fLabelSize\":0.035,\"fTickLength\":0.03,\"fTitleOffset\":1,\"fTitleSize\":0.035,\"fTitleColor\":1,\"fTitleFont\":42},\"fYaxis\":{\"_typename\":\"TAttAxis\",\"fNdivisions\":510,\"fAxisColor\":1,\"fLabelColor\":1,\"fLabelFont\":42,\"fLabelOffset\":0.005,\"fLabelSize\":0.035,\"fTickLength\":0.03,\"fTitleOffset\":0,\"fTitleSize\":0.035,\"fTitleColor\":1,\"fTitleFont\":42},\"fZaxis\":{\"_typename\":\"TAttAxis\",\"fNdivisions\":510,\"fAxisColor\":1,\"fLabelColor\":1,\"fLabelFont\":42,\"fLabelOffset\":0.005,\"fLabelSize\":0.035,\"fTickLength\":0.03,\"fTitleOffset\":1,\"fTitleSize\":0.035,\"fTitleColor\":1,\"fTitleFont\":42},\"fBarWidth\":1,\"fBarOffset\":0,\"fColorModelPS\":0,\"fDrawBorder\":0,\"fOptLogx\":0,\"fOptLogy\":0,\"fOptLogz\":0,\"fOptDate\":0,\"fOptStat\":0,\"fOptTitle\":1,\"fOptFile\":0,\"fOptFit\":0,\"fShowEventStatus\":0,\"fShowEditor\":0,\"fShowToolBar\":0,\"fNumberContours\":20,\"fAttDate\":{\"_typename\":\"TAttText\",\"fTextAngle\":0,\"fTextSize\":0.025,\"fTextAlign\":11,\"fTextColor\":1,\"fTextFont\":62},\"fDateX\":0.01,\"fDateY\":0.01,\"fEndErrorSize\":2,\"fErrorX\":0.5,\"fFuncColor\":2,\"fFuncStyle\":1,\"fFuncWidth\":2,\"fGridColor\":0,\"fGridStyle\":3,\"fGridWidth\":1,\"fLegendBorderSize\":1,\"fLegendFillColor\":0,\"fLegendFillStyle\":1001,\"fLegendFont\":42,\"fLegendTextSize\":0,\"fHatchesLineWidth\":1,\"fHatchesSpacing\":1,\"fFrameFillColor\":0,\"fFrameLineColor\":1,\"fFrameFillStyle\":1001,\"fFrameLineStyle\":1,\"fFrameLineWidth\":1,\"fFrameBorderSize\":1,\"fFrameBorderMode\":0,\"fHistFillColor\":0,\"fHistLineColor\":602,\"fHistFillStyle\":1001,\"fHistLineStyle\":1,\"fHistLineWidth\":1,\"fHistMinimumZero\":false,\"fHistTopMargin\":0.05,\"fCanvasPreferGL\":false,\"fCanvasColor\":0,\"fCanvasBorderSize\":2,\"fCanvasBorderMode\":0,\"fCanvasDefH\":500,\"fCanvasDefW\":700,\"fCanvasDefX\":10,\"fCanvasDefY\":10,\"fPadColor\":0,\"fPadBorderSize\":2,\"fPadBorderMode\":0,\"fPadBottomMargin\":0.1,\"fPadTopMargin\":0.1,\"fPadLeftMargin\":0.1,\"fPadRightMargin\":0.1,\"fPadGridX\":false,\"fPadGridY\":false,\"fPadTickX\":0,\"fPadTickY\":0,\"fPaperSizeX\":20,\"fPaperSizeY\":26,\"fScreenFactor\":1,\"fStatColor\":0,\"fStatTextColor\":1,\"fStatBorderSize\":1,\"fStatFont\":42,\"fStatFontSize\":0,\"fStatStyle\":1001,\"fStatFormat\":\"6.4g\",\"fStatX\":0.98,\"fStatY\":0.935,\"fStatW\":0.2,\"fStatH\":0.16,\"fStripDecimals\":true,\"fTitleAlign\":23,\"fTitleColor\":0,\"fTitleTextColor\":1,\"fTitleBorderSize\":0,\"fTitleFont\":42,\"fTitleFontSize\":0.05,\"fTitleStyle\":0,\"fTitleX\":0.5,\"fTitleY\":0.995,\"fTitleW\":0,\"fTitleH\":0,\"fLegoInnerR\":0.5,\"fLineStyles\":[\"\",\"  \",\" 12 12\",\" 4 8\",\" 12 16 4 16\",\" 20 12 4 12\",\" 20 12 4 12 4 12 4 12\",\" 20 20\",\" 20 12 4 12 4 12\",\" 80 20\",\" 80 40 4 40\",\"  \",\"  \",\"  \",\"  \",\"  \",\"  \",\"  \",\"  \",\"  \",\"  \",\"  \",\"  \",\"  \",\"  \",\"  \",\"  \",\"  \",\"  \",\"  \"],\"fHeaderPS\":\"\",\"fTitlePS\":\"\",\"fFitFormat\":\"5.4g\",\"fPaintTextFormat\":\"g\",\"fLineScalePS\":3,\"fJoinLinePS\":0,\"fCapLinePS\":0,\"fTimeOffset\":788918400,\"fImageScaling\":1,\"fCandleWhiskerRange\":1,\"fCandleBoxRange\":0.5,\"fCandleScaled\":false,\"fViolinScaled\":true,\"fXAxisExpXOffset\":0,\"fXAxisExpYOffset\":0,\"fYAxisExpXOffset\":0,\"fYAxisExpYOffset\":0,\"fAxisMaxDigits\":5,\"fOrthoCamera\":false}},{\"_typename\":\"TWebSnapshot\",\"fUniqueID\":0,\"fBits\":0,\"fObjectID\":\"\",\"fOption\":\"\",\"fKind\":1,\"fSnapshot\":{\"_typename\":\"TFrame\",\"fUniqueID\":0,\"fBits\":8,\"fLineColor\":1,\"fLineStyle\":1,\"fLineWidth\":1,\"fFillColor\":0,\"fFillStyle\":1001,\"fX1\":0,\"fY1\":0.8,\"fX2\":3,\"fY2\":1.2,\"fBorderSize\":1,\"fBorderMode\":0}},{\"_typename\":\"TWebSnapshot\",\"fUniqueID\":0,\"fBits\":0,\"fObjectID\":\"\",\"fOption\":\"HIST\",\"fKind\":1,\"fSnapshot\":{\"_typename\":\"TH1F\",\"fUniqueID\":0,\"fBits\":8,\"fName\":\"h_up_ratio\",\"fTitle\":\"DY_LTMET\",\"fLineColor\":632,\"fLineStyle\":1,\"fLineWidth\":1,\"fFillColor\":0,\"fFillStyle\":1001,\"fMarkerColor\":1,\"fMarkerStyle\":1,\"fMarkerSize\":1,\"fNcells\":5,\"fXaxis\":{\"_typename\":\"TAxis\",\"fUniqueID\":0,\"fBits\":0,\"fName\":\"xaxis\",\"fTitle\":\"\",\"fNdivisions\":510,\"fAxisColor\":1,\"fLabelColor\":1,\"fLabelFont\":42,\"fLabelOffset\":0.005,\"fLabelSize\":0.035,\"fTickLength\":0.03,\"fTitleOffset\":1,\"fTitleSize\":0.035,\"fTitleColor\":1,\"fTitleFont\":42,\"fNbins\":3,\"fXmin\":0,\"fXmax\":3,\"fXbins\":[],\"fFirst\":0,\"fLast\":0,\"fBits2\":3,\"fTimeDisplay\":false,\"fTimeFormat\":\"\",\"fLabels\":{\"_typename\":\"THashList\",\"name\":\"THashList\",\"arr\":[{\"_typename\":\"TObjString\",\"fUniqueID\":1,\"fBits\":0,\"fString\":\"bin1\"},{\"_typename\":\"TObjString\",\"fUniqueID\":2,\"fBits\":0,\"fString\":\"bin2\"},{\"_typename\":\"TObjString\",\"fUniqueID\":3,\"fBits\":0,\"fString\":\"bin3\"}],\"opt\":[\"\",\"\",\"\"]},\"fModLabs\":null},\"fYaxis\":{\"_typename\":\"TAxis\",\"fUniqueID\":0,\"fBits\":0,\"fName\":\"yaxis\",\"fTitle\":\"\",\"fNdivisions\":510,\"fAxisColor\":1,\"fLabelColor\":1,\"fLabelFont\":42,\"fLabelOffset\":0.005,\"fLabelSize\":0.035,\"fTickLength\":0.03,\"fTitleOffset\":0,\"fTitleSize\":0.035,\"fTitleColor\":1,\"fTitleFont\":42,\"fNbins\":1,\"fXmin\":0,\"fXmax\":1,\"fXbins\":[],\"fFirst\":0,\"fLast\":0,\"fBits2\":0,\"fTimeDisplay\":false,\"fTimeFormat\":\"\",\"fLabels\":null,\"fModLabs\":null},\"fZaxis\":{\"_typename\":\"TAxis\",\"fUniqueID\":0,\"fBits\":0,\"fName\":\"zaxis\",\"fTitle\":\"\",\"fNdivisions\":510,\"fAxisColor\":1,\"fLabelColor\":1,\"fLabelFont\":42,\"fLabelOffset\":0.005,\"fLabelSize\":0.035,\"fTickLength\":0.03,\"fTitleOffset\":1,\"fTitleSize\":0.035,\"fTitleColor\":1,\"fTitleFont\":42,\"fNbins\":1,\"fXmin\":0,\"fXmax\":1,\"fXbins\":[],\"fFirst\":0,\"fLast\":0,\"fBits2\":0,\"fTimeDisplay\":false,\"fTimeFormat\":\"\",\"fLabels\":null,\"fModLabs\":null},\"fBarOffset\":0,\"fBarWidth\":1000,\"fEntries\":3.01562118530273,\"fTsumw\":3.01562118530273,\"fTsumw2\":3.01562118530273,\"fTsumwx\":0,\"fTsumwx2\":0,\"fMaximum\":1.2,\"fMinimum\":0.8,\"fNormFactor\":0,\"fContour\":[],\"fSumw2\":[],\"fOption\":\"\",\"fFunctions\":{\"_typename\":\"TList\",\"name\":\"TList\",\"arr\":[],\"opt\":[]},\"fBufferSize\":0,\"fBuffer\":[],\"fBinStatErrOpt\":0,\"fStatOverflows\":2,\"fArray\":[0,0.9624941,1.0297,1.023427,0]}},{\"_typename\":\"TWebSnapshot\",\"fUniqueID\":0,\"fBits\":0,\"fObjectID\":\"\",\"fOption\":\"HIST SAME\",\"fKind\":1,\"fSnapshot\":{\"_typename\":\"TH1F\",\"fUniqueID\":0,\"fBits\":8,\"fName\":\"ch3L2018_LTMET_DY\",\"fTitle\":\"DY_LTMET\",\"fLineColor\":1,\"fLineStyle\":1,\"fLineWidth\":1,\"fFillColor\":0,\"fFillStyle\":1001,\"fMarkerColor\":1,\"fMarkerStyle\":1,\"fMarkerSize\":1,\"fNcells\":5,\"fXaxis\":{\"_typename\":\"TAxis\",\"fUniqueID\":0,\"fBits\":0,\"fName\":\"xaxis\",\"fTitle\":\"\",\"fNdivisions\":510,\"fAxisColor\":1,\"fLabelColor\":1,\"fLabelFont\":42,\"fLabelOffset\":0.005,\"fLabelSize\":0.035,\"fTickLength\":0.03,\"fTitleOffset\":1,\"fTitleSize\":0.035,\"fTitleColor\":1,\"fTitleFont\":42,\"fNbins\":3,\"fXmin\":0,\"fXmax\":3,\"fXbins\":[],\"fFirst\":0,\"fLast\":0,\"fBits2\":3,\"fTimeDisplay\":false,\"fTimeFormat\":\"\",\"fLabels\":{\"_typename\":\"THashList\",\"name\":\"THashList\",\"arr\":[{\"_typename\":\"TObjString\",\"fUniqueID\":1,\"fBits\":0,\"fString\":\"bin1\"},{\"_typename\":\"TObjString\",\"fUniqueID\":2,\"fBits\":0,\"fString\":\"bin2\"},{\"_typename\":\"TObjString\",\"fUniqueID\":3,\"fBits\":0,\"fString\":\"bin3\"}],\"opt\":[\"\",\"\",\"\"]},\"fModLabs\":null},\"fYaxis\":{\"_typename\":\"TAxis\",\"fUniqueID\":0,\"fBits\":0,\"fName\":\"yaxis\",\"fTitle\":\"\",\"fNdivisions\":510,\"fAxisColor\":1,\"fLabelColor\":1,\"fLabelFont\":42,\"fLabelOffset\":0.005,\"fLabelSize\":0.035,\"fTickLength\":0.03,\"fTitleOffset\":0,\"fTitleSize\":0.035,\"fTitleColor\":1,\"fTitleFont\":42,\"fNbins\":1,\"fXmin\":0,\"fXmax\":1,\"fXbins\":[],\"fFirst\":0,\"fLast\":0,\"fBits2\":0,\"fTimeDisplay\":false,\"fTimeFormat\":\"\",\"fLabels\":null,\"fModLabs\":null},\"fZaxis\":{\"_typename\":\"TAxis\",\"fUniqueID\":0,\"fBits\":0,\"fName\":\"zaxis\",\"fTitle\":\"\",\"fNdivisions\":510,\"fAxisColor\":1,\"fLabelColor\":1,\"fLabelFont\":42,\"fLabelOffset\":0.005,\"fLabelSize\":0.035,\"fTickLength\":0.03,\"fTitleOffset\":1,\"fTitleSize\":0.035,\"fTitleColor\":1,\"fTitleFont\":42,\"fNbins\":1,\"fXmin\":0,\"fXmax\":1,\"fXbins\":[],\"fFirst\":0,\"fLast\":0,\"fBits2\":0,\"fTimeDisplay\":false,\"fTimeFormat\":\"\",\"fLabels\":null,\"fModLabs\":null},\"fBarOffset\":0,\"fBarWidth\":1000,\"fEntries\":3,\"fTsumw\":0,\"fTsumw2\":0,\"fTsumwx\":0,\"fTsumwx2\":0,\"fMaximum\":-1111,\"fMinimum\":-1111,\"fNormFactor\":0,\"fContour\":[],\"fSumw2\":[],\"fOption\":\"\",\"fFunctions\":{\"_typename\":\"TList\",\"name\":\"TList\",\"arr\":[],\"opt\":[]},\"fBufferSize\":0,\"fBuffer\":[],\"fBinStatErrOpt\":0,\"fStatOverflows\":2,\"fArray\":[0,2,7,9,0]}},{\"_typename\":\"TWebSnapshot\",\"fUniqueID\":0,\"fBits\":0,\"fObjectID\":\"\",\"fOption\":\"HIST SAME\",\"fKind\":1,\"fSnapshot\":{\"_typename\":\"TH1F\",\"fUniqueID\":0,\"fBits\":8,\"fName\":\"h_dn_ratio\",\"fTitle\":\"DY_LTMET\",\"fLineColor\":600,\"fLineStyle\":1,\"fLineWidth\":1,\"fFillColor\":0,\"fFillStyle\":1001,\"fMarkerColor\":1,\"fMarkerStyle\":1,\"fMarkerSize\":1,\"fNcells\":5,\"fXaxis\":{\"_typename\":\"TAxis\",\"fUniqueID\":0,\"fBits\":0,\"fName\":\"xaxis\",\"fTitle\":\"\",\"fNdivisions\":510,\"fAxisColor\":1,\"fLabelColor\":1,\"fLabelFont\":42,\"fLabelOffset\":0.005,\"fLabelSize\":0.035,\"fTickLength\":0.03,\"fTitleOffset\":1,\"fTitleSize\":0.035,\"fTitleColor\":1,\"fTitleFont\":42,\"fNbins\":3,\"fXmin\":0,\"fXmax\":3,\"fXbins\":[],\"fFirst\":0,\"fLast\":0,\"fBits2\":3,\"fTimeDisplay\":false,\"fTimeFormat\":\"\",\"fLabels\":{\"_typename\":\"THashList\",\"name\":\"THashList\",\"arr\":[{\"_typename\":\"TObjString\",\"fUniqueID\":1,\"fBits\":0,\"fString\":\"bin1\"},{\"_typename\":\"TObjString\",\"fUniqueID\":2,\"fBits\":0,\"fString\":\"bin2\"},{\"_typename\":\"TObjString\",\"fUniqueID\":3,\"fBits\":0,\"fString\":\"bin3\"}],\"opt\":[\"\",\"\",\"\"]},\"fModLabs\":null},\"fYaxis\":{\"_typename\":\"TAxis\",\"fUniqueID\":0,\"fBits\":0,\"fName\":\"yaxis\",\"fTitle\":\"\",\"fNdivisions\":510,\"fAxisColor\":1,\"fLabelColor\":1,\"fLabelFont\":42,\"fLabelOffset\":0.005,\"fLabelSize\":0.035,\"fTickLength\":0.03,\"fTitleOffset\":0,\"fTitleSize\":0.035,\"fTitleColor\":1,\"fTitleFont\":42,\"fNbins\":1,\"fXmin\":0,\"fXmax\":1,\"fXbins\":[],\"fFirst\":0,\"fLast\":0,\"fBits2\":0,\"fTimeDisplay\":false,\"fTimeFormat\":\"\",\"fLabels\":null,\"fModLabs\":null},\"fZaxis\":{\"_typename\":\"TAxis\",\"fUniqueID\":0,\"fBits\":0,\"fName\":\"zaxis\",\"fTitle\":\"\",\"fNdivisions\":510,\"fAxisColor\":1,\"fLabelColor\":1,\"fLabelFont\":42,\"fLabelOffset\":0.005,\"fLabelSize\":0.035,\"fTickLength\":0.03,\"fTitleOffset\":1,\"fTitleSize\":0.035,\"fTitleColor\":1,\"fTitleFont\":42,\"fNbins\":1,\"fXmin\":0,\"fXmax\":1,\"fXbins\":[],\"fFirst\":0,\"fLast\":0,\"fBits2\":0,\"fTimeDisplay\":false,\"fTimeFormat\":\"\",\"fLabels\":null,\"fModLabs\":null},\"fBarOffset\":0,\"fBarWidth\":1000,\"fEntries\":2.95602679252625,\"fTsumw\":2.95602679252625,\"fTsumw2\":2.95602679252625,\"fTsumwx\":0,\"fTsumwx2\":0,\"fMaximum\":-1111,\"fMinimum\":-1111,\"fNormFactor\":0,\"fContour\":[],\"fSumw2\":[],\"fOption\":\"\",\"fFunctions\":{\"_typename\":\"TList\",\"name\":\"TList\",\"arr\":[],\"opt\":[]},\"fBufferSize\":0,\"fBuffer\":[],\"fBinStatErrOpt\":0,\"fStatOverflows\":2,\"fArray\":[0,1.003206,0.9878778,0.9649426,0]}},{\"_typename\":\"TWebSnapshot\",\"fUniqueID\":0,\"fBits\":0,\"fObjectID\":\"\",\"fOption\":\"\",\"fKind\":1,\"fSnapshot\":{\"_typename\":\"TLegend\",\"fUniqueID\":0,\"fBits\":8,\"fLineColor\":1,\"fLineStyle\":1,\"fLineWidth\":1,\"fFillColor\":0,\"fFillStyle\":1001,\"fX1\":1.31249999720603,\"fY1\":1.05000000074506,\"fX2\":2.62500001676381,\"fY2\":1.18000000268221,\"fX1NDC\":0.45,\"fY1NDC\":0.6,\"fX2NDC\":0.8,\"fY2NDC\":0.86,\"fBorderSize\":1,\"fInit\":1,\"fShadowColor\":1,\"fCornerRadius\":0,\"fOption\":\"brNDC\",\"fName\":\"TPave\",\"fTextAngle\":0,\"fTextSize\":0,\"fTextAlign\":12,\"fTextColor\":1,\"fTextFont\":42,\"fPrimitives\":{\"_typename\":\"TList\",\"name\":\"TList\",\"arr\":[{\"_typename\":\"TLegendEntry\",\"fUniqueID\":0,\"fBits\":0,\"fTextAngle\":0,\"fTextSize\":0,\"fTextAlign\":0,\"fTextColor\":0,\"fTextFont\":42,\"fLineColor\":602,\"fLineStyle\":1,\"fLineWidth\":1,\"fFillColor\":0,\"fFillStyle\":0,\"fMarkerColor\":1,\"fMarkerStyle\":21,\"fMarkerSize\":1,\"fObject\":{\"_typename\":\"TH1F\",\"fUniqueID\":0,\"fBits\":8,\"fName\":\"h_nom_ratio\",\"fTitle\":\"DY_LTMET\",\"fLineColor\":602,\"fLineStyle\":1,\"fLineWidth\":1,\"fFillColor\":0,\"fFillStyle\":1001,\"fMarkerColor\":1,\"fMarkerStyle\":1,\"fMarkerSize\":1,\"fNcells\":5,\"fXaxis\":{\"_typename\":\"TAxis\",\"fUniqueID\":0,\"fBits\":0,\"fName\":\"xaxis\",\"fTitle\":\"\",\"fNdivisions\":510,\"fAxisColor\":1,\"fLabelColor\":1,\"fLabelFont\":42,\"fLabelOffset\":0.005,\"fLabelSize\":0.035,\"fTickLength\":0.03,\"fTitleOffset\":1,\"fTitleSize\":0.035,\"fTitleColor\":1,\"fTitleFont\":42,\"fNbins\":3,\"fXmin\":0,\"fXmax\":3,\"fXbins\":[],\"fFirst\":0,\"fLast\":0,\"fBits2\":3,\"fTimeDisplay\":false,\"fTimeFormat\":\"\",\"fLabels\":{\"_typename\":\"THashList\",\"name\":\"THashList\",\"arr\":[{\"_typename\":\"TObjString\",\"fUniqueID\":1,\"fBits\":0,\"fString\":\"bin1\"},{\"_typename\":\"TObjString\",\"fUniqueID\":2,\"fBits\":0,\"fString\":\"bin2\"},{\"_typename\":\"TObjString\",\"fUniqueID\":3,\"fBits\":0,\"fString\":\"bin3\"}],\"opt\":[\"\",\"\",\"\"]},\"fModLabs\":null},\"fYaxis\":{\"_typename\":\"TAxis\",\"fUniqueID\":0,\"fBits\":0,\"fName\":\"yaxis\",\"fTitle\":\"\",\"fNdivisions\":510,\"fAxisColor\":1,\"fLabelColor\":1,\"fLabelFont\":42,\"fLabelOffset\":0.005,\"fLabelSize\":0.035,\"fTickLength\":0.03,\"fTitleOffset\":0,\"fTitleSize\":0.035,\"fTitleColor\":1,\"fTitleFont\":42,\"fNbins\":1,\"fXmin\":0,\"fXmax\":1,\"fXbins\":[],\"fFirst\":0,\"fLast\":0,\"fBits2\":0,\"fTimeDisplay\":false,\"fTimeFormat\":\"\",\"fLabels\":null,\"fModLabs\":null},\"fZaxis\":{\"_typename\":\"TAxis\",\"fUniqueID\":0,\"fBits\":0,\"fName\":\"zaxis\",\"fTitle\":\"\",\"fNdivisions\":510,\"fAxisColor\":1,\"fLabelColor\":1,\"fLabelFont\":42,\"fLabelOffset\":0.005,\"fLabelSize\":0.035,\"fTickLength\":0.03,\"fTitleOffset\":1,\"fTitleSize\":0.035,\"fTitleColor\":1,\"fTitleFont\":42,\"fNbins\":1,\"fXmin\":0,\"fXmax\":1,\"fXbins\":[],\"fFirst\":0,\"fLast\":0,\"fBits2\":0,\"fTimeDisplay\":false,\"fTimeFormat\":\"\",\"fLabels\":null,\"fModLabs\":null},\"fBarOffset\":0,\"fBarWidth\":1000,\"fEntries\":3,\"fTsumw\":3,\"fTsumw2\":3,\"fTsumwx\":0,\"fTsumwx2\":0,\"fMaximum\":-1111,\"fMinimum\":-1111,\"fNormFactor\":0,\"fContour\":[],\"fSumw2\":[],\"fOption\":\"\",\"fFunctions\":{\"_typename\":\"TList\",\"name\":\"TList\",\"arr\":[],\"opt\":[]},\"fBufferSize\":0,\"fBuffer\":[],\"fBinStatErrOpt\":0,\"fStatOverflows\":2,\"fArray\":[0,1,1,1,0]},\"fLabel\":\"nominal\",\"fOption\":\"l\"},{\"_typename\":\"TLegendEntry\",\"fUniqueID\":0,\"fBits\":0,\"fTextAngle\":0,\"fTextSize\":0,\"fTextAlign\":0,\"fTextColor\":0,\"fTextFont\":42,\"fLineColor\":632,\"fLineStyle\":1,\"fLineWidth\":1,\"fFillColor\":0,\"fFillStyle\":0,\"fMarkerColor\":1,\"fMarkerStyle\":21,\"fMarkerSize\":1,\"fObject\":{\"$ref\":15},\"fLabel\":\"CMS_btag_Up\",\"fOption\":\"l\"},{\"_typename\":\"TLegendEntry\",\"fUniqueID\":0,\"fBits\":0,\"fTextAngle\":0,\"fTextSize\":0,\"fTextAlign\":0,\"fTextColor\":0,\"fTextFont\":42,\"fLineColor\":600,\"fLineStyle\":1,\"fLineWidth\":1,\"fFillColor\":0,\"fFillStyle\":0,\"fMarkerColor\":1,\"fMarkerStyle\":21,\"fMarkerSize\":1,\"fObject\":{\"$ref\":35},\"fLabel\":\"CMS_btag_Down\",\"fOption\":\"l\"}],\"opt\":[\"l\",\"l\",\"l\"]},\"fEntrySeparation\":0.1,\"fMargin\":0.25,\"fNColumns\":1,\"fColumnSeparation\":0}},{\"_typename\":\"TWebSnapshot\",\"fUniqueID\":0,\"fBits\":0,\"fObjectID\":\"\",\"fOption\":\"blNDC\",\"fKind\":1,\"fSnapshot\":{\"_typename\":\"TPaveText\",\"fUniqueID\":0,\"fBits\":9,\"fLineColor\":1,\"fLineStyle\":1,\"fLineWidth\":1,\"fFillColor\":0,\"fFillStyle\":0,\"fX1\":1.14475670611586,\"fY1\":1.21846774757509,\"fX2\":1.85524329388414,\"fY2\":1.24750000607222,\"fX1NDC\":0.405268456375839,\"fY1NDC\":0.936935488639339,\"fX2NDC\":0.594731543624161,\"fY2NDC\":0.995000004768372,\"fBorderSize\":0,\"fInit\":1,\"fShadowColor\":1,\"fCornerRadius\":0,\"fOption\":\"blNDC\",\"fName\":\"title\",\"fTextAngle\":0,\"fTextSize\":0,\"fTextAlign\":22,\"fTextColor\":1,\"fTextFont\":42,\"fLabel\":\"\",\"fLongest\":8,\"fMargin\":0.05,\"fLines\":{\"_typename\":\"TList\",\"name\":\"TList\",\"arr\":[{\"_typename\":\"TLatex\",\"fUniqueID\":0,\"fBits\":0,\"fName\":\"\",\"fTitle\":\"DY_LTMET\",\"fTextAngle\":0,\"fTextSize\":0,\"fTextAlign\":0,\"fTextColor\":0,\"fTextFont\":0,\"fX\":0,\"fY\":0,\"fLineColor\":1,\"fLineStyle\":1,\"fLineWidth\":2,\"fLimitFactorSize\":3,\"fOriginSize\":0.0493548400700092}],\"opt\":[\"\"]}}}],\"fScripts\":\"\",\"fHighlightConnect\":false,\"fFixedSize\":false});\n",
       "   Core.settings.HandleKeys = false;\n",
       "   Core.draw(\"root_plot_1753173038056\", obj, \"\");\n",
       "}\n",
       "\n",
       "function script_load_root_plot_1753173038056(src, on_error) {\n",
       "    let script = document.createElement('script');\n",
       "    script.src = src;\n",
       "    script.onload = function() { display_root_plot_1753173038056(JSROOT); };\n",
       "    script.onerror = function() { script.remove(); on_error(); };\n",
       "    document.head.appendChild(script);\n",
       "}\n",
       "\n",
       "if (typeof requirejs !== 'undefined') {\n",
       "\n",
       "    // We are in jupyter notebooks, use require.js which should be configured already\n",
       "    requirejs.config({\n",
       "       paths: { 'JSRootCore' : [ 'build/jsroot', 'https://root.cern/js/7.7.4/build/jsroot', 'https://jsroot.gsi.de/7.7.4/build/jsroot' ] }\n",
       "    })(['JSRootCore'],  function(Core) {\n",
       "       display_root_plot_1753173038056(Core);\n",
       "    });\n",
       "\n",
       "} else if (typeof JSROOT !== 'undefined') {\n",
       "\n",
       "   // JSROOT already loaded, just use it\n",
       "   display_root_plot_1753173038056(JSROOT);\n",
       "\n",
       "} else {\n",
       "\n",
       "    // We are in jupyterlab without require.js, directly loading jsroot\n",
       "    // Jupyterlab might be installed in a different base_url so we need to know it.\n",
       "    try {\n",
       "        var base_url = JSON.parse(document.getElementById('jupyter-config-data').innerHTML).baseUrl;\n",
       "    } catch(_) {\n",
       "        var base_url = '/';\n",
       "    }\n",
       "\n",
       "    // Try loading a local version of requirejs and fallback to cdn if not possible.\n",
       "    script_load_root_plot_1753173038056(base_url + 'static/build/jsroot.js', function(){\n",
       "        console.error('Fail to load JSROOT locally, please check your jupyter_notebook_config.py file');\n",
       "        script_load_root_plot_1753173038056('https://root.cern/js/7.7.4/build/jsroot.js', function(){\n",
       "            document.getElementById(\"root_plot_1753173038056\").innerHTML = \"Failed to load JSROOT\";\n",
       "        });\n",
       "    });\n",
       "}\n",
       "\n",
       "</script>\n"
      ],
      "text/plain": [
       "<IPython.core.display.HTML object>"
      ]
     },
     "metadata": {},
     "output_type": "display_data"
    }
   ],
   "source": [
    "## plot systematic variation\n",
    "\n",
    "process = \"DY\"\n",
    "systname= \"CMS_btag\"\n",
    "\n",
    "\n",
    "rfile= ROOT.TFile.Open(f\"Shapes_{process}_ch3L2018_LTMET.root\",\"READ\")\n",
    "h_nom= rfile.Get(f\"ch3L2018_LTMET_{process}\")\n",
    "h_up = rfile.Get(f\"ch3L2018_LTMET_{process}_{systname}Up\")\n",
    "h_dn = rfile.Get(f\"ch3L2018_LTMET_{process}_{systname}Down\")\n",
    "\n",
    "h_up_ratio = h_nom.Clone(\"h_up_ratio\")\n",
    "h_up_ratio.Divide(h_up)\n",
    "\n",
    "h_dn_ratio = h_nom.Clone(\"h_dn_ratio\")\n",
    "h_dn_ratio.Divide(h_dn)\n",
    "\n",
    "h_nom_ratio= h_nom.Clone(\"h_nom_ratio\")\n",
    "h_nom_ratio.Divide(h_nom)\n",
    "\n",
    "legend = ROOT.TLegend(0.45,0.60,0.80,0.86)\n",
    "legend.AddEntry(h_nom_ratio,\"nominal\",\"l\")\n",
    "legend.AddEntry(h_up_ratio,f\"{systname}_Up\",\"l\")\n",
    "legend.AddEntry(h_dn_ratio,f\"{systname}_Down\",\"l\")\n",
    "\n",
    "scanvas = ROOT.TCanvas(f\"systcan_{process}_{systname}\",\"canvas\",600,400)\n",
    "ROOT.gStyle.SetOptStat(0)\n",
    "#ROOT.gPad.SetTickx(1)\n",
    "#ROOT.gPad.SetTicky(1)\n",
    "\n",
    "h_nom.SetLineColor(ROOT.kBlack)\n",
    "h_up_ratio.SetLineColor(ROOT.kRed)\n",
    "h_dn_ratio.SetLineColor(ROOT.kBlue)\n",
    "\n",
    "h_up_ratio.Draw(\"HIST\")        \n",
    "h_nom.Draw(\"HIST SAME\")\n",
    "h_dn_ratio.Draw(\"HIST SAME\")\n",
    "\n",
    "h_up_ratio.GetYaxis().SetRangeUser(0.8,1.2)\n",
    "\n",
    "legend.Draw()\n",
    "\n",
    "scanvas.SaveAs(\"syst-example.png\")\n"
   ]
  },
  {
   "cell_type": "code",
   "execution_count": 17,
   "id": "029417bc-61f5-4381-82d6-fe60a85cf6f7",
   "metadata": {},
   "outputs": [
    {
     "data": {
      "image/png": "[encoded data removed]",
      "text/plain": [
       "<IPython.core.display.Image object>"
      ]
     },
     "metadata": {},
     "output_type": "display_data"
    }
   ],
   "source": [
    "display(Image(\"syst-example.png\"))"
   ]
  },
  {
   "cell_type": "code",
   "execution_count": 18,
   "id": "f9b4014f-7107-4602-9460-7c6dbef3501a",
   "metadata": {},
   "outputs": [],
   "source": [
    "##Make a combined shape root file that contains all the process and variations\n",
    "##nominal + UpDown systematics"
   ]
  },
  {
   "cell_type": "code",
   "execution_count": 19,
   "id": "f767a2e0-7784-426f-b060-a69754ace1da",
   "metadata": {},
   "outputs": [],
   "source": [
    "def merge_histograms(input_files, output_filename):\n",
    "    output = ROOT.TFile(output_filename, \"RECREATE\")\n",
    "\n",
    "    for input_file_path in input_files:\n",
    "        infile = ROOT.TFile.Open(input_file_path)\n",
    "        for key in infile.GetListOfKeys():\n",
    "            obj = key.ReadObj()\n",
    "            if obj.InheritsFrom(\"TH1\"):  # Only process histograms\n",
    "                output.cd()\n",
    "                obj.Write()\n",
    "        infile.Close()\n",
    "\n",
    "    output.Write()\n",
    "    output.Close()\n",
    "    print(f\"Histograms merged into: {output_filename}\")\n"
   ]
  },
  {
   "cell_type": "code",
   "execution_count": 20,
   "id": "39ddacc8-2022-45b3-9920-d7048d37b23e",
   "metadata": {},
   "outputs": [],
   "source": [
    "input_fileset = [\n",
    "    \"Shapes_VLLM400_ch3L2018_LTMET.root\",\n",
    "    \"Shapes_DY_ch3L2018_LTMET.root\",\n",
    "    \"Shapes_TT_ch3L2018_LTMET.root\",\n",
    "    \"Shapes_WZ_ch3L2018_LTMET.root\",\n",
    "    \"Shapes_data_obs_ch3L2018_LTMET.root\",\n",
    "]\n",
    "\n",
    "output_filename = \"SHAPES_VLLM400_ch3L2018_LTMET.root\""
   ]
  },
  {
   "cell_type": "code",
   "execution_count": 21,
   "id": "bebea1fc-28eb-4860-9389-b8815524873e",
   "metadata": {},
   "outputs": [
    {
     "name": "stdout",
     "output_type": "stream",
     "text": [
      "Histograms merged into: SHAPES_VLLM400_ch3L2018_LTMET.root\n"
     ]
    }
   ],
   "source": [
    "merge_histograms(input_fileset,output_filename)"
   ]
  },
  {
   "cell_type": "code",
   "execution_count": 22,
   "id": "e85d05cc-d615-4f8c-a33d-31afead0b9e5",
   "metadata": {},
   "outputs": [],
   "source": [
    "merged_rfile = ROOT.TFile.Open(\"SHAPES_VLLM400_ch3L2018_LTMET.root\")\n"
   ]
  },
  {
   "cell_type": "code",
   "execution_count": 23,
   "id": "57bf8706-8939-4700-b235-e032a2b5fd36",
   "metadata": {},
   "outputs": [
    {
     "name": "stdout",
     "output_type": "stream",
     "text": [
      "Name: ch3L2018_LTMET_VLLM400 Title: VLLM400_LTMET\n",
      "Name: ch3L2018_LTMET_VLLM400_CMS_btagUp Title: VLLM400_LTMET\n",
      "Name: ch3L2018_LTMET_VLLM400_CMS_btagDown Title: VLLM400_LTMET\n",
      "Name: ch3L2018_LTMET_VLLM400_CMS_JESUp Title: VLLM400_LTMET\n",
      "Name: ch3L2018_LTMET_VLLM400_CMS_JESDown Title: VLLM400_LTMET\n",
      "Name: ch3L2018_LTMET_VLLM400_CMS_POGIDUp Title: VLLM400_LTMET\n",
      "Name: ch3L2018_LTMET_VLLM400_CMS_POGIDDown Title: VLLM400_LTMET\n",
      "Name: ch3L2018_LTMET_DY Title: DY_LTMET\n",
      "Name: ch3L2018_LTMET_DY_CMS_btagUp Title: DY_LTMET\n",
      "Name: ch3L2018_LTMET_DY_CMS_btagDown Title: DY_LTMET\n",
      "Name: ch3L2018_LTMET_DY_CMS_JESUp Title: DY_LTMET\n",
      "Name: ch3L2018_LTMET_DY_CMS_JESDown Title: DY_LTMET\n",
      "Name: ch3L2018_LTMET_DY_CMS_POGIDUp Title: DY_LTMET\n",
      "Name: ch3L2018_LTMET_DY_CMS_POGIDDown Title: DY_LTMET\n",
      "Name: ch3L2018_LTMET_TT Title: TT_LTMET\n",
      "Name: ch3L2018_LTMET_TT_CMS_btagUp Title: TT_LTMET\n",
      "Name: ch3L2018_LTMET_TT_CMS_btagDown Title: TT_LTMET\n",
      "Name: ch3L2018_LTMET_TT_CMS_JESUp Title: TT_LTMET\n",
      "Name: ch3L2018_LTMET_TT_CMS_JESDown Title: TT_LTMET\n",
      "Name: ch3L2018_LTMET_TT_CMS_POGIDUp Title: TT_LTMET\n",
      "Name: ch3L2018_LTMET_TT_CMS_POGIDDown Title: TT_LTMET\n",
      "Name: ch3L2018_LTMET_WZ Title: WZ_LTMET\n",
      "Name: ch3L2018_LTMET_WZ_CMS_btagUp Title: WZ_LTMET\n",
      "Name: ch3L2018_LTMET_WZ_CMS_btagDown Title: WZ_LTMET\n",
      "Name: ch3L2018_LTMET_WZ_CMS_JESUp Title: WZ_LTMET\n",
      "Name: ch3L2018_LTMET_WZ_CMS_JESDown Title: WZ_LTMET\n",
      "Name: ch3L2018_LTMET_WZ_CMS_POGIDUp Title: WZ_LTMET\n",
      "Name: ch3L2018_LTMET_WZ_CMS_POGIDDown Title: WZ_LTMET\n",
      "Name: ch3L2018_LTMET_data_obs Title: data_obs_LTMET\n"
     ]
    }
   ],
   "source": [
    "for keys in merged_rfile.GetListOfKeys():\n",
    "    print(keys)"
   ]
  },
  {
   "cell_type": "code",
   "execution_count": null,
   "id": "11933f2f-df59-4bfc-8569-e77675fe16a4",
   "metadata": {},
   "outputs": [],
   "source": []
  },
  {
   "cell_type": "code",
   "execution_count": null,
   "id": "96ed1d5e-2a9d-4ffb-ad09-8c70f33a114d",
   "metadata": {},
   "outputs": [],
   "source": []
  }
 ],
 "metadata": {
  "kernelspec": {
   "display_name": "Python 3 (ipykernel)",
   "language": "python",
   "name": "python3"
  },
  "language_info": {
   "codemirror_mode": {
    "name": "ipython",
    "version": 3
   },
   "file_extension": ".py",
   "mimetype": "text/x-python",
   "name": "python",
   "nbconvert_exporter": "python",
   "pygments_lexer": "ipython3",
   "version": "3.10.18"
  }
 },
 "nbformat": 4,
 "nbformat_minor": 5
}
